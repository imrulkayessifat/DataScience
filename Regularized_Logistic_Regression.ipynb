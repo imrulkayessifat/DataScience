{
  "nbformat": 4,
  "nbformat_minor": 0,
  "metadata": {
    "colab": {
      "provenance": [],
      "authorship_tag": "ABX9TyPvEKdyPNZfd4R780jt23Uh",
      "include_colab_link": true
    },
    "kernelspec": {
      "name": "python3",
      "display_name": "Python 3"
    },
    "language_info": {
      "name": "python"
    }
  },
  "cells": [
    {
      "cell_type": "markdown",
      "metadata": {
        "id": "view-in-github",
        "colab_type": "text"
      },
      "source": [
        "<a href=\"https://colab.research.google.com/github/ImrulkayeSifat/DataScience/blob/main/Regularized_Logistic_Regression.ipynb\" target=\"_parent\"><img src=\"https://colab.research.google.com/assets/colab-badge.svg\" alt=\"Open In Colab\"/></a>"
      ]
    },
    {
      "cell_type": "code",
      "execution_count": 29,
      "metadata": {
        "id": "m3o7BL59ld1h"
      },
      "outputs": [],
      "source": [
        "import pandas as pd\n",
        "import seaborn as sns\n",
        "import matplotlib.pyplot as plt\n",
        "import csv\n",
        "import numpy as np"
      ]
    },
    {
      "cell_type": "code",
      "source": [
        "url = 'https://raw.githubusercontent.com/ImrulkayeSifat/DataScience/main/data2.txt'\n",
        "data = pd.read_csv(url, header=None, names = [\"x1\",\"x2\",\"y\"])\n",
        "data.head()"
      ],
      "metadata": {
        "colab": {
          "base_uri": "https://localhost:8080/",
          "height": 206
        },
        "id": "-pq05jRTmEi7",
        "outputId": "94098120-9aaa-49f8-b518-dfb6c85ba1de"
      },
      "execution_count": 30,
      "outputs": [
        {
          "output_type": "execute_result",
          "data": {
            "text/plain": [
              "         x1       x2  y\n",
              "0  0.051267  0.69956  1\n",
              "1 -0.092742  0.68494  1\n",
              "2 -0.213710  0.69225  1\n",
              "3 -0.375000  0.50219  1\n",
              "4 -0.513250  0.46564  1"
            ],
            "text/html": [
              "\n",
              "  <div id=\"df-6c844485-e678-4881-ad21-2354334ce78b\">\n",
              "    <div class=\"colab-df-container\">\n",
              "      <div>\n",
              "<style scoped>\n",
              "    .dataframe tbody tr th:only-of-type {\n",
              "        vertical-align: middle;\n",
              "    }\n",
              "\n",
              "    .dataframe tbody tr th {\n",
              "        vertical-align: top;\n",
              "    }\n",
              "\n",
              "    .dataframe thead th {\n",
              "        text-align: right;\n",
              "    }\n",
              "</style>\n",
              "<table border=\"1\" class=\"dataframe\">\n",
              "  <thead>\n",
              "    <tr style=\"text-align: right;\">\n",
              "      <th></th>\n",
              "      <th>x1</th>\n",
              "      <th>x2</th>\n",
              "      <th>y</th>\n",
              "    </tr>\n",
              "  </thead>\n",
              "  <tbody>\n",
              "    <tr>\n",
              "      <th>0</th>\n",
              "      <td>0.051267</td>\n",
              "      <td>0.69956</td>\n",
              "      <td>1</td>\n",
              "    </tr>\n",
              "    <tr>\n",
              "      <th>1</th>\n",
              "      <td>-0.092742</td>\n",
              "      <td>0.68494</td>\n",
              "      <td>1</td>\n",
              "    </tr>\n",
              "    <tr>\n",
              "      <th>2</th>\n",
              "      <td>-0.213710</td>\n",
              "      <td>0.69225</td>\n",
              "      <td>1</td>\n",
              "    </tr>\n",
              "    <tr>\n",
              "      <th>3</th>\n",
              "      <td>-0.375000</td>\n",
              "      <td>0.50219</td>\n",
              "      <td>1</td>\n",
              "    </tr>\n",
              "    <tr>\n",
              "      <th>4</th>\n",
              "      <td>-0.513250</td>\n",
              "      <td>0.46564</td>\n",
              "      <td>1</td>\n",
              "    </tr>\n",
              "  </tbody>\n",
              "</table>\n",
              "</div>\n",
              "      <button class=\"colab-df-convert\" onclick=\"convertToInteractive('df-6c844485-e678-4881-ad21-2354334ce78b')\"\n",
              "              title=\"Convert this dataframe to an interactive table.\"\n",
              "              style=\"display:none;\">\n",
              "        \n",
              "  <svg xmlns=\"http://www.w3.org/2000/svg\" height=\"24px\"viewBox=\"0 0 24 24\"\n",
              "       width=\"24px\">\n",
              "    <path d=\"M0 0h24v24H0V0z\" fill=\"none\"/>\n",
              "    <path d=\"M18.56 5.44l.94 2.06.94-2.06 2.06-.94-2.06-.94-.94-2.06-.94 2.06-2.06.94zm-11 1L8.5 8.5l.94-2.06 2.06-.94-2.06-.94L8.5 2.5l-.94 2.06-2.06.94zm10 10l.94 2.06.94-2.06 2.06-.94-2.06-.94-.94-2.06-.94 2.06-2.06.94z\"/><path d=\"M17.41 7.96l-1.37-1.37c-.4-.4-.92-.59-1.43-.59-.52 0-1.04.2-1.43.59L10.3 9.45l-7.72 7.72c-.78.78-.78 2.05 0 2.83L4 21.41c.39.39.9.59 1.41.59.51 0 1.02-.2 1.41-.59l7.78-7.78 2.81-2.81c.8-.78.8-2.07 0-2.86zM5.41 20L4 18.59l7.72-7.72 1.47 1.35L5.41 20z\"/>\n",
              "  </svg>\n",
              "      </button>\n",
              "      \n",
              "  <style>\n",
              "    .colab-df-container {\n",
              "      display:flex;\n",
              "      flex-wrap:wrap;\n",
              "      gap: 12px;\n",
              "    }\n",
              "\n",
              "    .colab-df-convert {\n",
              "      background-color: #E8F0FE;\n",
              "      border: none;\n",
              "      border-radius: 50%;\n",
              "      cursor: pointer;\n",
              "      display: none;\n",
              "      fill: #1967D2;\n",
              "      height: 32px;\n",
              "      padding: 0 0 0 0;\n",
              "      width: 32px;\n",
              "    }\n",
              "\n",
              "    .colab-df-convert:hover {\n",
              "      background-color: #E2EBFA;\n",
              "      box-shadow: 0px 1px 2px rgba(60, 64, 67, 0.3), 0px 1px 3px 1px rgba(60, 64, 67, 0.15);\n",
              "      fill: #174EA6;\n",
              "    }\n",
              "\n",
              "    [theme=dark] .colab-df-convert {\n",
              "      background-color: #3B4455;\n",
              "      fill: #D2E3FC;\n",
              "    }\n",
              "\n",
              "    [theme=dark] .colab-df-convert:hover {\n",
              "      background-color: #434B5C;\n",
              "      box-shadow: 0px 1px 3px 1px rgba(0, 0, 0, 0.15);\n",
              "      filter: drop-shadow(0px 1px 2px rgba(0, 0, 0, 0.3));\n",
              "      fill: #FFFFFF;\n",
              "    }\n",
              "  </style>\n",
              "\n",
              "      <script>\n",
              "        const buttonEl =\n",
              "          document.querySelector('#df-6c844485-e678-4881-ad21-2354334ce78b button.colab-df-convert');\n",
              "        buttonEl.style.display =\n",
              "          google.colab.kernel.accessAllowed ? 'block' : 'none';\n",
              "\n",
              "        async function convertToInteractive(key) {\n",
              "          const element = document.querySelector('#df-6c844485-e678-4881-ad21-2354334ce78b');\n",
              "          const dataTable =\n",
              "            await google.colab.kernel.invokeFunction('convertToInteractive',\n",
              "                                                     [key], {});\n",
              "          if (!dataTable) return;\n",
              "\n",
              "          const docLinkHtml = 'Like what you see? Visit the ' +\n",
              "            '<a target=\"_blank\" href=https://colab.research.google.com/notebooks/data_table.ipynb>data table notebook</a>'\n",
              "            + ' to learn more about interactive tables.';\n",
              "          element.innerHTML = '';\n",
              "          dataTable['output_type'] = 'display_data';\n",
              "          await google.colab.output.renderOutput(dataTable, element);\n",
              "          const docLink = document.createElement('div');\n",
              "          docLink.innerHTML = docLinkHtml;\n",
              "          element.appendChild(docLink);\n",
              "        }\n",
              "      </script>\n",
              "    </div>\n",
              "  </div>\n",
              "  "
            ]
          },
          "metadata": {},
          "execution_count": 30
        }
      ]
    },
    {
      "cell_type": "code",
      "source": [
        "def plotData(data, label_x, label_y, label_pos, label_neg, axes=None):\n",
        "  \n",
        "    neg = data['y'] == 0\n",
        "    pos = data['y'] == 1\n",
        "    \n",
        "    if axes == None:\n",
        "        axes = plt.gca()\n",
        "    axes.scatter(data[pos]['x1'], data[pos]['x2'], marker='+', c='red', s=60, linewidth=2, label=label_pos)\n",
        "    axes.scatter(data[neg]['x1'], data[neg]['x2'], c='green', s=60, label=label_neg)\n",
        "    axes.set_xlabel(label_x)\n",
        "    axes.set_ylabel(label_y)\n",
        "    axes.legend(frameon= True, fancybox = True);"
      ],
      "metadata": {
        "id": "IOa1mghnmako"
      },
      "execution_count": 31,
      "outputs": []
    },
    {
      "cell_type": "code",
      "source": [
        "plotData(data, 'Microchip Test 1', 'Microchip Test 2', 'y = 1', 'y = 0')"
      ],
      "metadata": {
        "colab": {
          "base_uri": "https://localhost:8080/",
          "height": 279
        },
        "id": "FJNkudnlmkeP",
        "outputId": "7ceb210d-1654-4096-d500-c0e36adf2993"
      },
      "execution_count": 32,
      "outputs": [
        {
          "output_type": "display_data",
          "data": {
            "text/plain": [
              "<Figure size 432x288 with 1 Axes>"
            ],
            "image/png": "[encoded data removed]"
          },
          "metadata": {
            "needs_background": "light"
          }
        }
      ]
    },
    {
      "cell_type": "code",
      "source": [
        "n = data.shape[1]-1\n",
        "x = data[data.columns[0:n]]\n",
        "\n",
        "y = data[data.columns[n:n+1]]\n",
        "# convert to np.array\n",
        "X = x.values\n",
        "y = y.values\n",
        "X\n"
      ],
      "metadata": {
        "colab": {
          "base_uri": "https://localhost:8080/"
        },
        "id": "smAm6vgQmrNU",
        "outputId": "86c1e07b-e993-4e3d-a8c4-6e0aea6b782e"
      },
      "execution_count": 33,
      "outputs": [
        {
          "output_type": "execute_result",
          "data": {
            "text/plain": [
              "array([[ 0.051267 ,  0.69956  ],\n",
              "       [-0.092742 ,  0.68494  ],\n",
              "       [-0.21371  ,  0.69225  ],\n",
              "       [-0.375    ,  0.50219  ],\n",
              "       [-0.51325  ,  0.46564  ],\n",
              "       [-0.52477  ,  0.2098   ],\n",
              "       [-0.39804  ,  0.034357 ],\n",
              "       [-0.30588  , -0.19225  ],\n",
              "       [ 0.016705 , -0.40424  ],\n",
              "       [ 0.13191  , -0.51389  ],\n",
              "       [ 0.38537  , -0.56506  ],\n",
              "       [ 0.52938  , -0.5212   ],\n",
              "       [ 0.63882  , -0.24342  ],\n",
              "       [ 0.73675  , -0.18494  ],\n",
              "       [ 0.54666  ,  0.48757  ],\n",
              "       [ 0.322    ,  0.5826   ],\n",
              "       [ 0.16647  ,  0.53874  ],\n",
              "       [-0.046659 ,  0.81652  ],\n",
              "       [-0.17339  ,  0.69956  ],\n",
              "       [-0.47869  ,  0.63377  ],\n",
              "       [-0.60541  ,  0.59722  ],\n",
              "       [-0.62846  ,  0.33406  ],\n",
              "       [-0.59389  ,  0.005117 ],\n",
              "       [-0.42108  , -0.27266  ],\n",
              "       [-0.11578  , -0.39693  ],\n",
              "       [ 0.20104  , -0.60161  ],\n",
              "       [ 0.46601  , -0.53582  ],\n",
              "       [ 0.67339  , -0.53582  ],\n",
              "       [-0.13882  ,  0.54605  ],\n",
              "       [-0.29435  ,  0.77997  ],\n",
              "       [-0.26555  ,  0.96272  ],\n",
              "       [-0.16187  ,  0.8019   ],\n",
              "       [-0.17339  ,  0.64839  ],\n",
              "       [-0.28283  ,  0.47295  ],\n",
              "       [-0.36348  ,  0.31213  ],\n",
              "       [-0.30012  ,  0.027047 ],\n",
              "       [-0.23675  , -0.21418  ],\n",
              "       [-0.06394  , -0.18494  ],\n",
              "       [ 0.062788 , -0.16301  ],\n",
              "       [ 0.22984  , -0.41155  ],\n",
              "       [ 0.2932   , -0.2288   ],\n",
              "       [ 0.48329  , -0.18494  ],\n",
              "       [ 0.64459  , -0.14108  ],\n",
              "       [ 0.46025  ,  0.012427 ],\n",
              "       [ 0.6273   ,  0.15863  ],\n",
              "       [ 0.57546  ,  0.26827  ],\n",
              "       [ 0.72523  ,  0.44371  ],\n",
              "       [ 0.22408  ,  0.52412  ],\n",
              "       [ 0.44297  ,  0.67032  ],\n",
              "       [ 0.322    ,  0.69225  ],\n",
              "       [ 0.13767  ,  0.57529  ],\n",
              "       [-0.0063364,  0.39985  ],\n",
              "       [-0.092742 ,  0.55336  ],\n",
              "       [-0.20795  ,  0.35599  ],\n",
              "       [-0.20795  ,  0.17325  ],\n",
              "       [-0.43836  ,  0.21711  ],\n",
              "       [-0.21947  , -0.016813 ],\n",
              "       [-0.13882  , -0.27266  ],\n",
              "       [ 0.18376  ,  0.93348  ],\n",
              "       [ 0.22408  ,  0.77997  ],\n",
              "       [ 0.29896  ,  0.61915  ],\n",
              "       [ 0.50634  ,  0.75804  ],\n",
              "       [ 0.61578  ,  0.7288   ],\n",
              "       [ 0.60426  ,  0.59722  ],\n",
              "       [ 0.76555  ,  0.50219  ],\n",
              "       [ 0.92684  ,  0.3633   ],\n",
              "       [ 0.82316  ,  0.27558  ],\n",
              "       [ 0.96141  ,  0.085526 ],\n",
              "       [ 0.93836  ,  0.012427 ],\n",
              "       [ 0.86348  , -0.082602 ],\n",
              "       [ 0.89804  , -0.20687  ],\n",
              "       [ 0.85196  , -0.36769  ],\n",
              "       [ 0.82892  , -0.5212   ],\n",
              "       [ 0.79435  , -0.55775  ],\n",
              "       [ 0.59274  , -0.7405   ],\n",
              "       [ 0.51786  , -0.5943   ],\n",
              "       [ 0.46601  , -0.41886  ],\n",
              "       [ 0.35081  , -0.57968  ],\n",
              "       [ 0.28744  , -0.76974  ],\n",
              "       [ 0.085829 , -0.75512  ],\n",
              "       [ 0.14919  , -0.57968  ],\n",
              "       [-0.13306  , -0.4481   ],\n",
              "       [-0.40956  , -0.41155  ],\n",
              "       [-0.39228  , -0.25804  ],\n",
              "       [-0.74366  , -0.25804  ],\n",
              "       [-0.69758  ,  0.041667 ],\n",
              "       [-0.75518  ,  0.2902   ],\n",
              "       [-0.69758  ,  0.68494  ],\n",
              "       [-0.4038   ,  0.70687  ],\n",
              "       [-0.38076  ,  0.91886  ],\n",
              "       [-0.50749  ,  0.90424  ],\n",
              "       [-0.54781  ,  0.70687  ],\n",
              "       [ 0.10311  ,  0.77997  ],\n",
              "       [ 0.057028 ,  0.91886  ],\n",
              "       [-0.10426  ,  0.99196  ],\n",
              "       [-0.081221 ,  1.1089   ],\n",
              "       [ 0.28744  ,  1.087    ],\n",
              "       [ 0.39689  ,  0.82383  ],\n",
              "       [ 0.63882  ,  0.88962  ],\n",
              "       [ 0.82316  ,  0.66301  ],\n",
              "       [ 0.67339  ,  0.64108  ],\n",
              "       [ 1.0709   ,  0.10015  ],\n",
              "       [-0.046659 , -0.57968  ],\n",
              "       [-0.23675  , -0.63816  ],\n",
              "       [-0.15035  , -0.36769  ],\n",
              "       [-0.49021  , -0.3019   ],\n",
              "       [-0.46717  , -0.13377  ],\n",
              "       [-0.28859  , -0.060673 ],\n",
              "       [-0.61118  , -0.067982 ],\n",
              "       [-0.66302  , -0.21418  ],\n",
              "       [-0.59965  , -0.41886  ],\n",
              "       [-0.72638  , -0.082602 ],\n",
              "       [-0.83007  ,  0.31213  ],\n",
              "       [-0.72062  ,  0.53874  ],\n",
              "       [-0.59389  ,  0.49488  ],\n",
              "       [-0.48445  ,  0.99927  ],\n",
              "       [-0.0063364,  0.99927  ],\n",
              "       [ 0.63265  , -0.030612 ]])"
            ]
          },
          "metadata": {},
          "execution_count": 33
        }
      ]
    },
    {
      "cell_type": "code",
      "source": [
        "def mapFeature( x1col, x2col):\n",
        "    degrees = 10\n",
        "    out = np.ones( (x1col.shape[0], 1) )\n",
        "\n",
        "    for i in range(1, degrees+1):\n",
        "      for j in range(0, i+1):\n",
        "        term1 = x1col ** (i-j)\n",
        "        term2 = x2col ** (j)\n",
        "        term  = (term1 * term2).reshape( term1.shape[0], 1 ) \n",
        "        out   = np.hstack(( out, term ))\n",
        "        \n",
        "    return out"
      ],
      "metadata": {
        "id": "vCZFhTbgmxKv"
      },
      "execution_count": 34,
      "outputs": []
    },
    {
      "cell_type": "code",
      "source": [
        "XX = mapFeature(X[:,0],X[:,1])\n",
        "print(X.shape, XX.shape)\n",
        "XX"
      ],
      "metadata": {
        "colab": {
          "base_uri": "https://localhost:8080/"
        },
        "id": "3h_Rxp9Rm5BT",
        "outputId": "c607cdc2-4e9e-42ef-dcdd-504b56d7b464"
      },
      "execution_count": 35,
      "outputs": [
        {
          "output_type": "stream",
          "name": "stdout",
          "text": [
            "(118, 2) (118, 66)\n"
          ]
        },
        {
          "output_type": "execute_result",
          "data": {
            "text/plain": [
              "array([[ 1.00000000e+00,  5.12670000e-02,  6.99560000e-01, ...,\n",
              "         1.50756332e-04,  2.05713421e-03,  2.80704704e-02],\n",
              "       [ 1.00000000e+00, -9.27420000e-02,  6.84940000e-01, ...,\n",
              "         4.16651692e-04, -3.07715393e-03,  2.27261199e-02],\n",
              "       [ 1.00000000e+00, -2.13710000e-01,  6.92250000e-01, ...,\n",
              "         2.40853745e-03, -7.80174092e-03,  2.52714199e-02],\n",
              "       ...,\n",
              "       [ 1.00000000e+00, -4.84450000e-01,  9.99270000e-01, ...,\n",
              "         2.33324699e-01, -4.81276442e-01,  9.92723934e-01],\n",
              "       [ 1.00000000e+00, -6.33640000e-03,  9.99270000e-01, ...,\n",
              "         3.99160874e-05, -6.29489121e-03,  9.92723934e-01],\n",
              "       [ 1.00000000e+00,  6.32650000e-01, -3.06120000e-02, ...,\n",
              "         3.08646006e-13, -1.49344370e-14,  7.22631762e-16]])"
            ]
          },
          "metadata": {},
          "execution_count": 35
        }
      ]
    },
    {
      "cell_type": "code",
      "source": [
        "from scipy.special import expit \n",
        "\n",
        "def h(mytheta,myX): \n",
        "    return expit(np.dot(myX,mytheta))"
      ],
      "metadata": {
        "id": "xqRyRHuQnGxq"
      },
      "execution_count": 36,
      "outputs": []
    },
    {
      "cell_type": "code",
      "source": [
        "def estimateCost(mytheta,myX,myy,mylambda = 0.04): \n",
        "\n",
        "    m = myy.size \n",
        "\n",
        "    term1 = np.dot(-np.array(myy).T,np.log(h(mytheta,myX)))\n",
        "    term2 = np.dot((1-np.array(myy)).T,np.log(1-h(mytheta,myX)))\n",
        "    regterm = (mylambda/2) * np.sum(np.dot(mytheta[1:].T,mytheta[1:])) \n",
        "    return float( (1./m) * ( np.sum(term1 - term2) + regterm ) )\n"
      ],
      "metadata": {
        "id": "3B_qZ4p0nJdN"
      },
      "execution_count": 37,
      "outputs": []
    },
    {
      "cell_type": "code",
      "source": [
        "def sigmoid(z):\n",
        "    z = np.clip( z, -500, 500 )           \n",
        "    g = 1.0/(1.0+np.exp(-z))\n",
        "    return g"
      ],
      "metadata": {
        "id": "J13soAd8nNbV"
      },
      "execution_count": 38,
      "outputs": []
    },
    {
      "cell_type": "code",
      "source": [
        "def estimate_gradient_logistic(X, y, w):\n",
        "  m,n = X.shape\n",
        "  # print(m,n)\n",
        "  m_n = np.zeros((n,))\n",
        "\n",
        "  for i in range(m):\n",
        "    f_wb_i = sigmoid(np.dot(X[i], w))                           \n",
        "    err_i  = f_wb_i  - y[i]                      \n",
        "    for j in range(n):\n",
        "      m_n[j] = m_n[j] + err_i * X[i,j]        \n",
        "  m_n = m_n/m                                   \n",
        "      \n",
        "  return m_n"
      ],
      "metadata": {
        "id": "shIm_D0DnR84"
      },
      "execution_count": 39,
      "outputs": []
    },
    {
      "cell_type": "code",
      "source": [
        "# from scipy import optimize\n",
        "import copy\n",
        "import math\n",
        "initial_theta = np.zeros(XX.shape[1])\n",
        "print(initial_theta.shape)\n",
        "\n",
        "def improveRegularizedTheta(mytheta, myX, myy, alpha, num_iters, mylambda=0.04):\n",
        "  m = myX.shape[0]\n",
        "  J_history = []\n",
        "  w = copy.deepcopy(mytheta)\n",
        "\n",
        "  for i in range(num_iters):\n",
        "    # Calculate the gradient and update the parameters\n",
        "    m_n = estimate_gradient_logistic(myX, myy, w)   \n",
        "\n",
        "    # Update Parameters using w, b, alpha and gradient\n",
        "    w = w*(1-alpha*(mylambda/m)) - alpha * m_n              \n",
        "  \n",
        "    # Save cost J at each iteration\n",
        "    if i<100000:      # prevent resource exhaustion \n",
        "        J_history.append( estimateCost(w, myX, myy, mylambda) )\n",
        "\n",
        "    # Print cost every at intervals 10 times or as many iterations if < 10\n",
        "    if i% math.ceil(num_iters / 10) == 0:\n",
        "        print(f\"Iteration {i:4d}: Cost {J_history[-1]}   \")\n",
        "  return w, min(J_history)\n",
        "    \n",
        "theta, mincost = improveRegularizedTheta(initial_theta,XX,y, 0.1, 100)\n",
        "print(theta.shape)\n",
        "print(mincost)"
      ],
      "metadata": {
        "colab": {
          "base_uri": "https://localhost:8080/"
        },
        "id": "vNKKo72TnVWb",
        "outputId": "de2c1e65-9df1-40b5-cf7c-bddb2a0b0d2c"
      },
      "execution_count": 40,
      "outputs": [
        {
          "output_type": "stream",
          "name": "stdout",
          "text": [
            "(66,)\n",
            "Iteration    0: Cost 0.6911003774743663   \n",
            "Iteration   10: Cost 0.6745309957576244   \n",
            "Iteration   20: Cost 0.6624483269919691   \n",
            "Iteration   30: Cost 0.6527584931002239   \n",
            "Iteration   40: Cost 0.6444965118413686   \n",
            "Iteration   50: Cost 0.637188120683964   \n",
            "Iteration   60: Cost 0.630576610813018   \n",
            "Iteration   70: Cost 0.6245077907311783   \n",
            "Iteration   80: Cost 0.6188798936108779   \n",
            "Iteration   90: Cost 0.6136205470407993   \n",
            "(66,)\n",
            "0.6091570888490606\n"
          ]
        }
      ]
    },
    {
      "cell_type": "code",
      "source": [
        "def plotBoundary(mytheta, myX, myy, mylambda=0.):\n",
        "    \"\"\"\n",
        "    Function to plot the decision boundary for arbitrary theta, X, y, lambda value\n",
        "    Inside of this function is feature mapping, and the minimization routine.\n",
        "    It works by making a grid of x1 (\"xvals\") and x2 (\"yvals\") points,\n",
        "    And for each, computing whether the hypothesis classifies that point as\n",
        "    True or False. Then, a contour is drawn with a built-in pyplot function.\n",
        "    \"\"\"\n",
        "    alpha = .001\n",
        "    iters = 2000\n",
        "\n",
        "    theta, mincost = improveRegularizedTheta(mytheta, myX, myy, alpha, iters, mylambda)\n",
        "    print(theta, '\\n\\nCost : ', mincost, '\\n \\n ')\n",
        "    xvals = np.linspace(-1,1.5,50)\n",
        "    yvals = np.linspace(-1,1.5,50)\n",
        "    zvals = np.zeros((len(xvals),len(yvals)))\n",
        "    for i in range(len(xvals)):\n",
        "        for j in range(len(yvals)):\n",
        "            myfeaturesij = mapFeature(np.array([xvals[i]]),np.array([yvals[j]]))\n",
        "            zvals[i][j] = np.dot(theta,myfeaturesij.T)\n",
        "            # print(type(zvals), zvals.shape)\n",
        "    zvals = zvals.transpose()\n",
        "\n",
        "    u, v = np.meshgrid( xvals, yvals )\n",
        "    mycontour = plt.contour( xvals, yvals, zvals, [0])\n",
        "    #Kind of a hacky way to display a text on top of the decision boundary\n",
        "    myfmt = { 0:'Lambda = %d'%mylambda}\n",
        "    plt.clabel(mycontour, inline=1, fontsize=15, fmt=myfmt)\n",
        "    plt.title(\"Decision Boundary\")"
      ],
      "metadata": {
        "id": "JVNVPJhInbhs"
      },
      "execution_count": 42,
      "outputs": []
    },
    {
      "cell_type": "code",
      "source": [
        "plt.figure(figsize=(12,10))\n",
        "plt.subplot(221)\n",
        "plotData(data, 'Microchip Test 1', 'Microchip Test 2', 'y = 1', 'y = 0')\n",
        "plotBoundary(initial_theta, XX, y, 0.04)\n",
        "\n",
        "plt.subplot(222)\n",
        "plotData(data, 'Microchip Test 1', 'Microchip Test 2', 'y = 1', 'y = 0')\n",
        "plotBoundary(initial_theta,XX,y,0.08)\n",
        "\n",
        "plt.subplot(223)\n",
        "plotData(data, 'Microchip Test 1', 'Microchip Test 2', 'y = 1', 'y = 0')\n",
        "plotBoundary(initial_theta,XX,y,0.012)\n",
        "\n",
        "plt.subplot(224)\n",
        "plotData(data, 'Microchip Test 1', 'Microchip Test 2', 'y = 1', 'y = 0')\n",
        "plotBoundary(initial_theta,XX,y,0.016)"
      ],
      "metadata": {
        "colab": {
          "base_uri": "https://localhost:8080/",
          "height": 1000
        },
        "id": "9gjc7IV6nhRY",
        "outputId": "01776eb6-3ddd-4b0d-ca74-d2163aeae38a"
      },
      "execution_count": 43,
      "outputs": [
        {
          "output_type": "stream",
          "name": "stdout",
          "text": [
            "Iteration    0: Cost 0.6931264910521204   \n",
            "Iteration  200: Cost 0.6891604159721241   \n",
            "Iteration  400: Cost 0.6855062943211132   \n",
            "Iteration  600: Cost 0.6821236625202035   \n",
            "Iteration  800: Cost 0.6789774865123869   \n",
            "Iteration 1000: Cost 0.6760375823071767   \n",
            "Iteration 1200: Cost 0.6732780347412197   \n",
            "Iteration 1400: Cost 0.6706766432245619   \n",
            "Iteration 1600: Cost 0.6682144114672175   \n",
            "Iteration 1800: Cost 0.6658750894106791   \n",
            "[ 1.35393385e-02 -2.85283677e-02  1.57914216e-02 -9.02653969e-02\n",
            " -2.25748482e-02 -5.82974075e-02 -2.98791137e-02 -1.24720162e-02\n",
            " -1.51482909e-02 -3.26400191e-02 -7.16050820e-02 -3.98703039e-03\n",
            " -2.32570747e-02 -6.12902928e-03 -6.38417790e-02 -3.41750454e-02\n",
            " -7.76894086e-03 -6.02198567e-03 -1.02453184e-02 -8.59412815e-03\n",
            " -4.80230506e-02 -5.62339168e-02 -1.74862260e-03 -1.16808025e-02\n",
            " -6.89480472e-04 -1.30299616e-02 -2.75175502e-03 -6.31588224e-02\n",
            " -3.46484316e-02 -4.90983125e-03 -4.16871197e-03 -4.04294773e-03\n",
            " -2.50923080e-03 -8.00842107e-03 -4.76683050e-03 -5.47252371e-02\n",
            " -4.64132101e-02 -1.42541311e-03 -6.62572927e-03 -3.79049403e-04\n",
            " -5.03412752e-03 -2.27523254e-04 -8.94611519e-03 -1.47128006e-03\n",
            " -6.32247998e-02 -3.38740853e-02 -3.59928949e-03 -3.01967883e-03\n",
            " -1.75869352e-03 -1.51308831e-03 -2.63880767e-03 -1.02499339e-03\n",
            " -6.56643786e-03 -2.75837113e-03 -5.94345790e-02 -4.03860643e-02\n",
            " -1.57729912e-03 -4.13915284e-03 -2.39866273e-04 -2.33494204e-03\n",
            " -2.52640604e-04 -2.87417706e-03  1.65242018e-05 -6.94050020e-03\n",
            " -9.62817880e-04 -6.51395758e-02] \n",
            "\n",
            "Cost :  0.6636556704752137 \n",
            " \n",
            " \n",
            "Iteration    0: Cost 0.6931264910556153   \n",
            "Iteration  200: Cost 0.6891606828633726   \n",
            "Iteration  400: Cost 0.6855073028279893   \n",
            "Iteration  600: Cost 0.6821258169263348   \n",
            "Iteration  800: Cost 0.6789811342405115   \n",
            "Iteration 1000: Cost 0.6760430250187032   \n",
            "Iteration 1200: Cost 0.6732855372942467   \n",
            "Iteration 1400: Cost 0.6706864408369899   \n",
            "Iteration 1600: Cost 0.6682267154068856   \n",
            "Iteration 1800: Cost 0.6658900914955578   \n",
            "[ 1.35319258e-02 -2.85196354e-02  1.57845937e-02 -9.02358412e-02\n",
            " -2.25672467e-02 -5.82792443e-02 -2.98696874e-02 -1.24679978e-02\n",
            " -1.51432849e-02 -3.26302897e-02 -7.15815322e-02 -3.98572970e-03\n",
            " -2.32494347e-02 -6.12695851e-03 -6.38215219e-02 -3.41640517e-02\n",
            " -7.76639492e-03 -6.02002247e-03 -1.02419841e-02 -8.59125091e-03\n",
            " -4.80080747e-02 -5.62154504e-02 -1.74807494e-03 -1.16769396e-02\n",
            " -6.89259822e-04 -1.30256918e-02 -2.75082021e-03 -6.31387567e-02\n",
            " -3.46372213e-02 -4.90822402e-03 -4.16734903e-03 -4.04161627e-03\n",
            " -2.50840420e-03 -8.00581980e-03 -4.76522536e-03 -5.47080224e-02\n",
            " -4.63980154e-02 -1.42497229e-03 -6.62353509e-03 -3.78930533e-04\n",
            " -5.03246467e-03 -2.27451494e-04 -8.94319700e-03 -1.47077927e-03\n",
            " -6.32047548e-02 -3.38631129e-02 -3.59811730e-03 -3.01868924e-03\n",
            " -1.75811295e-03 -1.51259045e-03 -2.63794055e-03 -1.02465450e-03\n",
            " -6.56431299e-03 -2.75744198e-03 -5.94158524e-02 -4.03728911e-02\n",
            " -1.57680672e-03 -4.13778237e-03 -2.39791435e-04 -2.33416895e-03\n",
            " -2.52559542e-04 -2.87323046e-03  1.65166810e-05 -6.93824846e-03\n",
            " -9.62494527e-04 -6.51189825e-02] \n",
            "\n",
            "Cost :  0.663673531838168 \n",
            " \n",
            " \n",
            "Iteration    0: Cost 0.6931264910496739   \n",
            "Iteration  200: Cost 0.6891602291339984   \n",
            "Iteration  400: Cost 0.6855055882592669   \n",
            "Iteration  600: Cost 0.6821221540949637   \n",
            "Iteration  800: Cost 0.6789749323372485   \n",
            "Iteration 1000: Cost 0.6760337709887793   \n",
            "Iteration 1200: Cost 0.6732727806157764   \n",
            "Iteration 1400: Cost 0.670669781348788   \n",
            "Iteration 1600: Cost 0.6682057936389447   \n",
            "Iteration 1800: Cost 0.6658645810214329   \n",
            "[ 1.35445296e-02 -2.85344826e-02  1.57962030e-02 -9.02860936e-02\n",
            " -2.25801712e-02 -5.83101265e-02 -2.98857146e-02 -1.24748302e-02\n",
            " -1.51517965e-02 -3.26468322e-02 -7.16215731e-02 -3.98794122e-03\n",
            " -2.32624247e-02 -6.13047938e-03 -6.38559642e-02 -3.41827439e-02\n",
            " -7.77072368e-03 -6.02336043e-03 -1.02476533e-02 -8.59614298e-03\n",
            " -4.80335377e-02 -5.62468482e-02 -1.74900610e-03 -1.16835076e-02\n",
            " -6.89634985e-04 -1.30329516e-02 -2.75240964e-03 -6.31728737e-02\n",
            " -3.46562818e-02 -4.91095674e-03 -4.16966638e-03 -4.04388011e-03\n",
            " -2.50980964e-03 -8.01024265e-03 -4.76795453e-03 -5.47372919e-02\n",
            " -4.64238504e-02 -1.42572180e-03 -6.62726578e-03 -3.79132643e-04\n",
            " -5.03529196e-03 -2.27573506e-04 -8.94815869e-03 -1.47163076e-03\n",
            " -6.32388365e-02 -3.38817689e-02 -3.60011033e-03 -3.02037181e-03\n",
            " -1.75910007e-03 -1.51343695e-03 -2.63941489e-03 -1.02523070e-03\n",
            " -6.56792583e-03 -2.75902178e-03 -5.94476926e-02 -4.03952890e-02\n",
            " -1.57764393e-03 -4.14011254e-03 -2.39918679e-04 -2.33548341e-03\n",
            " -2.52697368e-04 -2.87483993e-03  1.65294683e-05 -6.94207700e-03\n",
            " -9.63044318e-04 -6.51539965e-02] \n",
            "\n",
            "Cost :  0.6636431583888721 \n",
            " \n",
            " \n",
            "Iteration    0: Cost 0.6931264910500234   \n",
            "Iteration  200: Cost 0.6891602558258778   \n",
            "Iteration  400: Cost 0.6855056891306421   \n",
            "Iteration  600: Cost 0.6821223696014771   \n",
            "Iteration  800: Cost 0.6789752972580133   \n",
            "Iteration 1000: Cost 0.6760343155344682   \n",
            "Iteration 1200: Cost 0.6732735313230616   \n",
            "Iteration 1400: Cost 0.6706707617956658   \n",
            "Iteration 1600: Cost 0.668207025013033   \n",
            "Iteration 1800: Cost 0.6658660825694658   \n",
            "[ 1.35437879e-02 -2.85336090e-02  1.57955199e-02 -9.02831366e-02\n",
            " -2.25794107e-02 -5.83083093e-02 -2.98847715e-02 -1.24744282e-02\n",
            " -1.51512956e-02 -3.26458588e-02 -7.16192169e-02 -3.98781108e-03\n",
            " -2.32616603e-02 -6.13027219e-03 -6.38539375e-02 -3.41816440e-02\n",
            " -7.77046896e-03 -6.02316401e-03 -1.02473197e-02 -8.59585511e-03\n",
            " -4.80320393e-02 -5.62450006e-02 -1.74895131e-03 -1.16831211e-02\n",
            " -6.89612908e-04 -1.30325244e-02 -2.75231611e-03 -6.31708661e-02\n",
            " -3.46551602e-02 -4.91079593e-03 -4.16953002e-03 -4.04374689e-03\n",
            " -2.50972694e-03 -8.00998239e-03 -4.76779393e-03 -5.47355696e-02\n",
            " -4.64223302e-02 -1.42567770e-03 -6.62704625e-03 -3.79120750e-04\n",
            " -5.03512559e-03 -2.27566326e-04 -8.94786673e-03 -1.47158065e-03\n",
            " -6.32368310e-02 -3.38806711e-02 -3.59999305e-03 -3.02027280e-03\n",
            " -1.75904198e-03 -1.51338714e-03 -2.63932813e-03 -1.02519679e-03\n",
            " -6.56771323e-03 -2.75892882e-03 -5.94458190e-02 -4.03939710e-02\n",
            " -1.57759466e-03 -4.13997542e-03 -2.39911191e-04 -2.33540606e-03\n",
            " -2.52689258e-04 -2.87474522e-03  1.65287158e-05 -6.94185172e-03\n",
            " -9.63011965e-04 -6.51519361e-02] \n",
            "\n",
            "Cost :  0.6636449462904717 \n",
            " \n",
            " \n"
          ]
        },
        {
          "output_type": "display_data",
          "data": {
            "text/plain": [
              "<Figure size 864x720 with 4 Axes>"
            ],
            "image/png": "[encoded data removed]"
          },
          "metadata": {
            "needs_background": "light"
          }
        }
      ]
    }
  ]
}