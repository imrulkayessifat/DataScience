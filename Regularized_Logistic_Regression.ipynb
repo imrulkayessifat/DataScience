{
  "nbformat": 4,
  "nbformat_minor": 0,
  "metadata": {
    "colab": {
      "provenance": [],
      "authorship_tag": "ABX9TyMtVmkzEwSBagaPvWutWEWm",
      "include_colab_link": true
    },
    "kernelspec": {
      "name": "python3",
      "display_name": "Python 3"
    },
    "language_info": {
      "name": "python"
    }
  },
  "cells": [
    {
      "cell_type": "markdown",
      "metadata": {
        "id": "view-in-github",
        "colab_type": "text"
      },
      "source": [
        "<a href=\"https://colab.research.google.com/github/ImrulkayeSifat/DataScience/blob/main/Regularized_Logistic_Regression.ipynb\" target=\"_parent\"><img src=\"https://colab.research.google.com/assets/colab-badge.svg\" alt=\"Open In Colab\"/></a>"
      ]
    },
    {
      "cell_type": "code",
      "execution_count": 3,
      "metadata": {
        "id": "m3o7BL59ld1h"
      },
      "outputs": [],
      "source": [
        "import pandas as pd\n",
        "import matplotlib.pyplot as plt\n",
        "import csv\n",
        "import numpy as np\n",
        "import seaborn as sns"
      ]
    },
    {
      "cell_type": "code",
      "source": [
        "url = 'https://raw.githubusercontent.com/ImrulkayeSifat/DataScience/main/data2.txt'\n",
        "data = pd.read_csv(url, header=None, names = [\"x1\",\"x2\",\"y\"])\n",
        "data.head()"
      ],
      "metadata": {
        "colab": {
          "base_uri": "https://localhost:8080/",
          "height": 206
        },
        "id": "-pq05jRTmEi7",
        "outputId": "12d0f372-1341-4049-e8d6-5fbc086375af"
      },
      "execution_count": 4,
      "outputs": [
        {
          "output_type": "execute_result",
          "data": {
            "text/plain": [
              "         x1       x2  y\n",
              "0  0.051267  0.69956  1\n",
              "1 -0.092742  0.68494  1\n",
              "2 -0.213710  0.69225  1\n",
              "3 -0.375000  0.50219  1\n",
              "4 -0.513250  0.46564  1"
            ],
            "text/html": [
              "\n",
              "  <div id=\"df-52530e81-4a1e-4f8d-8250-413674afd202\">\n",
              "    <div class=\"colab-df-container\">\n",
              "      <div>\n",
              "<style scoped>\n",
              "    .dataframe tbody tr th:only-of-type {\n",
              "        vertical-align: middle;\n",
              "    }\n",
              "\n",
              "    .dataframe tbody tr th {\n",
              "        vertical-align: top;\n",
              "    }\n",
              "\n",
              "    .dataframe thead th {\n",
              "        text-align: right;\n",
              "    }\n",
              "</style>\n",
              "<table border=\"1\" class=\"dataframe\">\n",
              "  <thead>\n",
              "    <tr style=\"text-align: right;\">\n",
              "      <th></th>\n",
              "      <th>x1</th>\n",
              "      <th>x2</th>\n",
              "      <th>y</th>\n",
              "    </tr>\n",
              "  </thead>\n",
              "  <tbody>\n",
              "    <tr>\n",
              "      <th>0</th>\n",
              "      <td>0.051267</td>\n",
              "      <td>0.69956</td>\n",
              "      <td>1</td>\n",
              "    </tr>\n",
              "    <tr>\n",
              "      <th>1</th>\n",
              "      <td>-0.092742</td>\n",
              "      <td>0.68494</td>\n",
              "      <td>1</td>\n",
              "    </tr>\n",
              "    <tr>\n",
              "      <th>2</th>\n",
              "      <td>-0.213710</td>\n",
              "      <td>0.69225</td>\n",
              "      <td>1</td>\n",
              "    </tr>\n",
              "    <tr>\n",
              "      <th>3</th>\n",
              "      <td>-0.375000</td>\n",
              "      <td>0.50219</td>\n",
              "      <td>1</td>\n",
              "    </tr>\n",
              "    <tr>\n",
              "      <th>4</th>\n",
              "      <td>-0.513250</td>\n",
              "      <td>0.46564</td>\n",
              "      <td>1</td>\n",
              "    </tr>\n",
              "  </tbody>\n",
              "</table>\n",
              "</div>\n",
              "      <button class=\"colab-df-convert\" onclick=\"convertToInteractive('df-52530e81-4a1e-4f8d-8250-413674afd202')\"\n",
              "              title=\"Convert this dataframe to an interactive table.\"\n",
              "              style=\"display:none;\">\n",
              "        \n",
              "  <svg xmlns=\"http://www.w3.org/2000/svg\" height=\"24px\"viewBox=\"0 0 24 24\"\n",
              "       width=\"24px\">\n",
              "    <path d=\"M0 0h24v24H0V0z\" fill=\"none\"/>\n",
              "    <path d=\"M18.56 5.44l.94 2.06.94-2.06 2.06-.94-2.06-.94-.94-2.06-.94 2.06-2.06.94zm-11 1L8.5 8.5l.94-2.06 2.06-.94-2.06-.94L8.5 2.5l-.94 2.06-2.06.94zm10 10l.94 2.06.94-2.06 2.06-.94-2.06-.94-.94-2.06-.94 2.06-2.06.94z\"/><path d=\"M17.41 7.96l-1.37-1.37c-.4-.4-.92-.59-1.43-.59-.52 0-1.04.2-1.43.59L10.3 9.45l-7.72 7.72c-.78.78-.78 2.05 0 2.83L4 21.41c.39.39.9.59 1.41.59.51 0 1.02-.2 1.41-.59l7.78-7.78 2.81-2.81c.8-.78.8-2.07 0-2.86zM5.41 20L4 18.59l7.72-7.72 1.47 1.35L5.41 20z\"/>\n",
              "  </svg>\n",
              "      </button>\n",
              "      \n",
              "  <style>\n",
              "    .colab-df-container {\n",
              "      display:flex;\n",
              "      flex-wrap:wrap;\n",
              "      gap: 12px;\n",
              "    }\n",
              "\n",
              "    .colab-df-convert {\n",
              "      background-color: #E8F0FE;\n",
              "      border: none;\n",
              "      border-radius: 50%;\n",
              "      cursor: pointer;\n",
              "      display: none;\n",
              "      fill: #1967D2;\n",
              "      height: 32px;\n",
              "      padding: 0 0 0 0;\n",
              "      width: 32px;\n",
              "    }\n",
              "\n",
              "    .colab-df-convert:hover {\n",
              "      background-color: #E2EBFA;\n",
              "      box-shadow: 0px 1px 2px rgba(60, 64, 67, 0.3), 0px 1px 3px 1px rgba(60, 64, 67, 0.15);\n",
              "      fill: #174EA6;\n",
              "    }\n",
              "\n",
              "    [theme=dark] .colab-df-convert {\n",
              "      background-color: #3B4455;\n",
              "      fill: #D2E3FC;\n",
              "    }\n",
              "\n",
              "    [theme=dark] .colab-df-convert:hover {\n",
              "      background-color: #434B5C;\n",
              "      box-shadow: 0px 1px 3px 1px rgba(0, 0, 0, 0.15);\n",
              "      filter: drop-shadow(0px 1px 2px rgba(0, 0, 0, 0.3));\n",
              "      fill: #FFFFFF;\n",
              "    }\n",
              "  </style>\n",
              "\n",
              "      <script>\n",
              "        const buttonEl =\n",
              "          document.querySelector('#df-52530e81-4a1e-4f8d-8250-413674afd202 button.colab-df-convert');\n",
              "        buttonEl.style.display =\n",
              "          google.colab.kernel.accessAllowed ? 'block' : 'none';\n",
              "\n",
              "        async function convertToInteractive(key) {\n",
              "          const element = document.querySelector('#df-52530e81-4a1e-4f8d-8250-413674afd202');\n",
              "          const dataTable =\n",
              "            await google.colab.kernel.invokeFunction('convertToInteractive',\n",
              "                                                     [key], {});\n",
              "          if (!dataTable) return;\n",
              "\n",
              "          const docLinkHtml = 'Like what you see? Visit the ' +\n",
              "            '<a target=\"_blank\" href=https://colab.research.google.com/notebooks/data_table.ipynb>data table notebook</a>'\n",
              "            + ' to learn more about interactive tables.';\n",
              "          element.innerHTML = '';\n",
              "          dataTable['output_type'] = 'display_data';\n",
              "          await google.colab.output.renderOutput(dataTable, element);\n",
              "          const docLink = document.createElement('div');\n",
              "          docLink.innerHTML = docLinkHtml;\n",
              "          element.appendChild(docLink);\n",
              "        }\n",
              "      </script>\n",
              "    </div>\n",
              "  </div>\n",
              "  "
            ]
          },
          "metadata": {},
          "execution_count": 4
        }
      ]
    },
    {
      "cell_type": "code",
      "source": [
        "def plotData(data, label_x, label_y, label_pos, label_neg, axes=None):\n",
        "  \n",
        "    neg = data['y'] == 0\n",
        "    pos = data['y'] == 1\n",
        "    \n",
        "    if axes == None:\n",
        "        axes = plt.gca()\n",
        "    axes.scatter(data[pos]['x1'], data[pos]['x2'], marker='+', c='red', s=60, linewidth=2, label=label_pos)\n",
        "    axes.scatter(data[neg]['x1'], data[neg]['x2'], c='green', s=60, label=label_neg)\n",
        "    axes.set_xlabel(label_x)\n",
        "    axes.set_ylabel(label_y)\n",
        "    axes.legend(frameon= True, fancybox = True);"
      ],
      "metadata": {
        "id": "IOa1mghnmako"
      },
      "execution_count": 1,
      "outputs": []
    },
    {
      "cell_type": "code",
      "source": [
        "plotData(data, 'Microchip Test 1', 'Microchip Test 2', 'y = 1', 'y = 0')"
      ],
      "metadata": {
        "colab": {
          "base_uri": "https://localhost:8080/",
          "height": 279
        },
        "id": "FJNkudnlmkeP",
        "outputId": "2e53258e-2eac-4210-c35d-c017f11f84b9"
      },
      "execution_count": 5,
      "outputs": [
        {
          "output_type": "display_data",
          "data": {
            "text/plain": [
              "<Figure size 432x288 with 1 Axes>"
            ],
            "image/png": "[encoded data removed]"
          },
          "metadata": {
            "needs_background": "light"
          }
        }
      ]
    },
    {
      "cell_type": "code",
      "source": [
        "n = data.shape[1]-1\n",
        "x = data[data.columns[0:n]]\n",
        "\n",
        "y = data[data.columns[n:n+1]]\n",
        "# convert to np.array\n",
        "X = x.values\n",
        "y = y.values\n",
        "X\n"
      ],
      "metadata": {
        "colab": {
          "base_uri": "https://localhost:8080/"
        },
        "id": "smAm6vgQmrNU",
        "outputId": "4ce3c7c7-cb83-4261-ab53-9b5d205fda7d"
      },
      "execution_count": 6,
      "outputs": [
        {
          "output_type": "execute_result",
          "data": {
            "text/plain": [
              "array([[ 0.051267 ,  0.69956  ],\n",
              "       [-0.092742 ,  0.68494  ],\n",
              "       [-0.21371  ,  0.69225  ],\n",
              "       [-0.375    ,  0.50219  ],\n",
              "       [-0.51325  ,  0.46564  ],\n",
              "       [-0.52477  ,  0.2098   ],\n",
              "       [-0.39804  ,  0.034357 ],\n",
              "       [-0.30588  , -0.19225  ],\n",
              "       [ 0.016705 , -0.40424  ],\n",
              "       [ 0.13191  , -0.51389  ],\n",
              "       [ 0.38537  , -0.56506  ],\n",
              "       [ 0.52938  , -0.5212   ],\n",
              "       [ 0.63882  , -0.24342  ],\n",
              "       [ 0.73675  , -0.18494  ],\n",
              "       [ 0.54666  ,  0.48757  ],\n",
              "       [ 0.322    ,  0.5826   ],\n",
              "       [ 0.16647  ,  0.53874  ],\n",
              "       [-0.046659 ,  0.81652  ],\n",
              "       [-0.17339  ,  0.69956  ],\n",
              "       [-0.47869  ,  0.63377  ],\n",
              "       [-0.60541  ,  0.59722  ],\n",
              "       [-0.62846  ,  0.33406  ],\n",
              "       [-0.59389  ,  0.005117 ],\n",
              "       [-0.42108  , -0.27266  ],\n",
              "       [-0.11578  , -0.39693  ],\n",
              "       [ 0.20104  , -0.60161  ],\n",
              "       [ 0.46601  , -0.53582  ],\n",
              "       [ 0.67339  , -0.53582  ],\n",
              "       [-0.13882  ,  0.54605  ],\n",
              "       [-0.29435  ,  0.77997  ],\n",
              "       [-0.26555  ,  0.96272  ],\n",
              "       [-0.16187  ,  0.8019   ],\n",
              "       [-0.17339  ,  0.64839  ],\n",
              "       [-0.28283  ,  0.47295  ],\n",
              "       [-0.36348  ,  0.31213  ],\n",
              "       [-0.30012  ,  0.027047 ],\n",
              "       [-0.23675  , -0.21418  ],\n",
              "       [-0.06394  , -0.18494  ],\n",
              "       [ 0.062788 , -0.16301  ],\n",
              "       [ 0.22984  , -0.41155  ],\n",
              "       [ 0.2932   , -0.2288   ],\n",
              "       [ 0.48329  , -0.18494  ],\n",
              "       [ 0.64459  , -0.14108  ],\n",
              "       [ 0.46025  ,  0.012427 ],\n",
              "       [ 0.6273   ,  0.15863  ],\n",
              "       [ 0.57546  ,  0.26827  ],\n",
              "       [ 0.72523  ,  0.44371  ],\n",
              "       [ 0.22408  ,  0.52412  ],\n",
              "       [ 0.44297  ,  0.67032  ],\n",
              "       [ 0.322    ,  0.69225  ],\n",
              "       [ 0.13767  ,  0.57529  ],\n",
              "       [-0.0063364,  0.39985  ],\n",
              "       [-0.092742 ,  0.55336  ],\n",
              "       [-0.20795  ,  0.35599  ],\n",
              "       [-0.20795  ,  0.17325  ],\n",
              "       [-0.43836  ,  0.21711  ],\n",
              "       [-0.21947  , -0.016813 ],\n",
              "       [-0.13882  , -0.27266  ],\n",
              "       [ 0.18376  ,  0.93348  ],\n",
              "       [ 0.22408  ,  0.77997  ],\n",
              "       [ 0.29896  ,  0.61915  ],\n",
              "       [ 0.50634  ,  0.75804  ],\n",
              "       [ 0.61578  ,  0.7288   ],\n",
              "       [ 0.60426  ,  0.59722  ],\n",
              "       [ 0.76555  ,  0.50219  ],\n",
              "       [ 0.92684  ,  0.3633   ],\n",
              "       [ 0.82316  ,  0.27558  ],\n",
              "       [ 0.96141  ,  0.085526 ],\n",
              "       [ 0.93836  ,  0.012427 ],\n",
              "       [ 0.86348  , -0.082602 ],\n",
              "       [ 0.89804  , -0.20687  ],\n",
              "       [ 0.85196  , -0.36769  ],\n",
              "       [ 0.82892  , -0.5212   ],\n",
              "       [ 0.79435  , -0.55775  ],\n",
              "       [ 0.59274  , -0.7405   ],\n",
              "       [ 0.51786  , -0.5943   ],\n",
              "       [ 0.46601  , -0.41886  ],\n",
              "       [ 0.35081  , -0.57968  ],\n",
              "       [ 0.28744  , -0.76974  ],\n",
              "       [ 0.085829 , -0.75512  ],\n",
              "       [ 0.14919  , -0.57968  ],\n",
              "       [-0.13306  , -0.4481   ],\n",
              "       [-0.40956  , -0.41155  ],\n",
              "       [-0.39228  , -0.25804  ],\n",
              "       [-0.74366  , -0.25804  ],\n",
              "       [-0.69758  ,  0.041667 ],\n",
              "       [-0.75518  ,  0.2902   ],\n",
              "       [-0.69758  ,  0.68494  ],\n",
              "       [-0.4038   ,  0.70687  ],\n",
              "       [-0.38076  ,  0.91886  ],\n",
              "       [-0.50749  ,  0.90424  ],\n",
              "       [-0.54781  ,  0.70687  ],\n",
              "       [ 0.10311  ,  0.77997  ],\n",
              "       [ 0.057028 ,  0.91886  ],\n",
              "       [-0.10426  ,  0.99196  ],\n",
              "       [-0.081221 ,  1.1089   ],\n",
              "       [ 0.28744  ,  1.087    ],\n",
              "       [ 0.39689  ,  0.82383  ],\n",
              "       [ 0.63882  ,  0.88962  ],\n",
              "       [ 0.82316  ,  0.66301  ],\n",
              "       [ 0.67339  ,  0.64108  ],\n",
              "       [ 1.0709   ,  0.10015  ],\n",
              "       [-0.046659 , -0.57968  ],\n",
              "       [-0.23675  , -0.63816  ],\n",
              "       [-0.15035  , -0.36769  ],\n",
              "       [-0.49021  , -0.3019   ],\n",
              "       [-0.46717  , -0.13377  ],\n",
              "       [-0.28859  , -0.060673 ],\n",
              "       [-0.61118  , -0.067982 ],\n",
              "       [-0.66302  , -0.21418  ],\n",
              "       [-0.59965  , -0.41886  ],\n",
              "       [-0.72638  , -0.082602 ],\n",
              "       [-0.83007  ,  0.31213  ],\n",
              "       [-0.72062  ,  0.53874  ],\n",
              "       [-0.59389  ,  0.49488  ],\n",
              "       [-0.48445  ,  0.99927  ],\n",
              "       [-0.0063364,  0.99927  ],\n",
              "       [ 0.63265  , -0.030612 ]])"
            ]
          },
          "metadata": {},
          "execution_count": 6
        }
      ]
    },
    {
      "cell_type": "code",
      "source": [
        "def mapFeature( x1col, x2col):\n",
        "    degrees = 10\n",
        "    out = np.ones( (x1col.shape[0], 1) )\n",
        "\n",
        "    for i in range(1, degrees+1):\n",
        "      for j in range(0, i+1):\n",
        "        term1 = x1col ** (i-j)\n",
        "        term2 = x2col ** (j)\n",
        "        term  = (term1 * term2).reshape( term1.shape[0], 1 ) \n",
        "        out   = np.hstack(( out, term ))\n",
        "        \n",
        "    return out"
      ],
      "metadata": {
        "id": "vCZFhTbgmxKv"
      },
      "execution_count": 8,
      "outputs": []
    },
    {
      "cell_type": "code",
      "source": [
        "XX = mapFeature(X[:,0],X[:,1])\n",
        "print(X.shape, XX.shape)\n",
        "XX"
      ],
      "metadata": {
        "colab": {
          "base_uri": "https://localhost:8080/"
        },
        "id": "3h_Rxp9Rm5BT",
        "outputId": "4329de5c-6a2b-4bc8-a612-1c0d6be393c2"
      },
      "execution_count": 9,
      "outputs": [
        {
          "output_type": "stream",
          "name": "stdout",
          "text": [
            "(118, 2) (118, 66)\n"
          ]
        },
        {
          "output_type": "execute_result",
          "data": {
            "text/plain": [
              "array([[ 1.00000000e+00,  5.12670000e-02,  6.99560000e-01, ...,\n",
              "         1.50756332e-04,  2.05713421e-03,  2.80704704e-02],\n",
              "       [ 1.00000000e+00, -9.27420000e-02,  6.84940000e-01, ...,\n",
              "         4.16651692e-04, -3.07715393e-03,  2.27261199e-02],\n",
              "       [ 1.00000000e+00, -2.13710000e-01,  6.92250000e-01, ...,\n",
              "         2.40853745e-03, -7.80174092e-03,  2.52714199e-02],\n",
              "       ...,\n",
              "       [ 1.00000000e+00, -4.84450000e-01,  9.99270000e-01, ...,\n",
              "         2.33324699e-01, -4.81276442e-01,  9.92723934e-01],\n",
              "       [ 1.00000000e+00, -6.33640000e-03,  9.99270000e-01, ...,\n",
              "         3.99160874e-05, -6.29489121e-03,  9.92723934e-01],\n",
              "       [ 1.00000000e+00,  6.32650000e-01, -3.06120000e-02, ...,\n",
              "         3.08646006e-13, -1.49344370e-14,  7.22631762e-16]])"
            ]
          },
          "metadata": {},
          "execution_count": 9
        }
      ]
    },
    {
      "cell_type": "code",
      "source": [
        "from scipy.special import expit \n",
        "\n",
        "def h(mytheta,myX): \n",
        "    return expit(np.dot(myX,mytheta))"
      ],
      "metadata": {
        "id": "xqRyRHuQnGxq"
      },
      "execution_count": 10,
      "outputs": []
    },
    {
      "cell_type": "code",
      "source": [
        "def computeCost(mytheta,myX,myy,mylambda = 0.04): \n",
        "\n",
        "    m = myy.size \n",
        "\n",
        "    term1 = np.dot(-np.array(myy).T,np.log(h(mytheta,myX)))\n",
        "    term2 = np.dot((1-np.array(myy)).T,np.log(1-h(mytheta,myX)))\n",
        "    regterm = (mylambda/2) * np.sum(np.dot(mytheta[1:].T,mytheta[1:])) \n",
        "    return float( (1./m) * ( np.sum(term1 - term2) + regterm ) )\n"
      ],
      "metadata": {
        "id": "3B_qZ4p0nJdN"
      },
      "execution_count": 19,
      "outputs": []
    },
    {
      "cell_type": "code",
      "source": [
        "def sigmoid(z):\n",
        "    z = np.clip( z, -500, 500 )           \n",
        "    g = 1.0/(1.0+np.exp(-z))\n",
        "    return g"
      ],
      "metadata": {
        "id": "J13soAd8nNbV"
      },
      "execution_count": 20,
      "outputs": []
    },
    {
      "cell_type": "code",
      "source": [
        "def compute_gradient_logistic(X, y, w):\n",
        "  m,n = X.shape\n",
        "  # print(m,n)\n",
        "  dj_dw = np.zeros((n,))\n",
        "\n",
        "  for i in range(m):\n",
        "    f_wb_i = sigmoid(np.dot(X[i], w))                           \n",
        "    err_i  = f_wb_i  - y[i]                      \n",
        "    for j in range(n):\n",
        "      dj_dw[j] = dj_dw[j] + err_i * X[i,j]        \n",
        "  dj_dw = dj_dw/m                                   \n",
        "      \n",
        "  return dj_dw"
      ],
      "metadata": {
        "id": "shIm_D0DnR84"
      },
      "execution_count": 21,
      "outputs": []
    },
    {
      "cell_type": "code",
      "source": [
        "# from scipy import optimize\n",
        "import copy\n",
        "import math\n",
        "initial_theta = np.zeros(XX.shape[1])\n",
        "print(initial_theta.shape)\n",
        "\n",
        "def optimizeRegularizedTheta(mytheta, myX, myy, alpha, num_iters, mylambda=0.04):\n",
        "  m = myX.shape[0]\n",
        "  J_history = []\n",
        "  w = copy.deepcopy(mytheta)\n",
        "\n",
        "  for i in range(num_iters):\n",
        "    # Calculate the gradient and update the parameters\n",
        "    dj_dw = compute_gradient_logistic(myX, myy, w)   \n",
        "\n",
        "    # Update Parameters using w, b, alpha and gradient\n",
        "    w = w*(1-alpha*(mylambda/m)) - alpha * dj_dw              \n",
        "  \n",
        "    # Save cost J at each iteration\n",
        "    if i<100000:      # prevent resource exhaustion \n",
        "        J_history.append( computeCost(w, myX, myy, mylambda) )\n",
        "\n",
        "    # Print cost every at intervals 10 times or as many iterations if < 10\n",
        "    if i% math.ceil(num_iters / 10) == 0:\n",
        "        print(f\"Iteration {i:4d}: Cost {J_history[-1]}   \")\n",
        "  return w, min(J_history)\n",
        "    \n",
        "theta, mincost = optimizeRegularizedTheta(initial_theta,XX,y, 0.1, 100)\n",
        "print(theta.shape)\n",
        "print(mincost)"
      ],
      "metadata": {
        "colab": {
          "base_uri": "https://localhost:8080/"
        },
        "id": "vNKKo72TnVWb",
        "outputId": "ed2e7d10-e014-4bb1-835e-19ff62986e5f"
      },
      "execution_count": 23,
      "outputs": [
        {
          "output_type": "stream",
          "name": "stdout",
          "text": [
            "(66,)\n",
            "Iteration    0: Cost 0.6911003774743663   \n",
            "Iteration   10: Cost 0.6745309957576244   \n",
            "Iteration   20: Cost 0.6624483269919691   \n",
            "Iteration   30: Cost 0.6527584931002239   \n",
            "Iteration   40: Cost 0.6444965118413686   \n",
            "Iteration   50: Cost 0.637188120683964   \n",
            "Iteration   60: Cost 0.630576610813018   \n",
            "Iteration   70: Cost 0.6245077907311783   \n",
            "Iteration   80: Cost 0.6188798936108779   \n",
            "Iteration   90: Cost 0.6136205470407993   \n",
            "(66,)\n",
            "0.6091570888490606\n"
          ]
        }
      ]
    },
    {
      "cell_type": "code",
      "source": [
        "def plotBoundary(mytheta, myX, myy, mylambda=0.):\n",
        "    \"\"\"\n",
        "    Function to plot the decision boundary for arbitrary theta, X, y, lambda value\n",
        "    Inside of this function is feature mapping, and the minimization routine.\n",
        "    It works by making a grid of x1 (\"xvals\") and x2 (\"yvals\") points,\n",
        "    And for each, computing whether the hypothesis classifies that point as\n",
        "    True or False. Then, a contour is drawn with a built-in pyplot function.\n",
        "    \"\"\"\n",
        "    alpha = .01\n",
        "    iters = 10000\n",
        "\n",
        "    theta, mincost = optimizeRegularizedTheta(mytheta, myX, myy, alpha, iters, mylambda)\n",
        "    print(theta, '\\n\\nCost : ', mincost, '\\n \\n ')\n",
        "    xvals = np.linspace(-1,1.5,50)\n",
        "    yvals = np.linspace(-1,1.5,50)\n",
        "    zvals = np.zeros((len(xvals),len(yvals)))\n",
        "    for i in range(len(xvals)):\n",
        "        for j in range(len(yvals)):\n",
        "            myfeaturesij = mapFeature(np.array([xvals[i]]),np.array([yvals[j]]))\n",
        "            zvals[i][j] = np.dot(theta,myfeaturesij.T)\n",
        "            # print(type(zvals), zvals.shape)\n",
        "    zvals = zvals.transpose()\n",
        "\n",
        "    u, v = np.meshgrid( xvals, yvals )\n",
        "    mycontour = plt.contour( xvals, yvals, zvals, [0])\n",
        "    #Kind of a hacky way to display a text on top of the decision boundary\n",
        "    myfmt = { 0:'Lambda = %d'%mylambda}\n",
        "    plt.clabel(mycontour, inline=1, fontsize=15, fmt=myfmt)\n",
        "    plt.title(\"Decision Boundary\")"
      ],
      "metadata": {
        "id": "JVNVPJhInbhs"
      },
      "execution_count": 26,
      "outputs": []
    },
    {
      "cell_type": "code",
      "source": [
        "plt.figure(figsize=(12,10))\n",
        "plt.subplot(221)\n",
        "plotData(data, 'Microchip Test 1', 'Microchip Test 2', 'y = 1', 'y = 0')\n",
        "plotBoundary(initial_theta, XX, y, 0.04)\n",
        "\n",
        "plt.subplot(222)\n",
        "plotData(data, 'Microchip Test 1', 'Microchip Test 2', 'y = 1', 'y = 0')\n",
        "plotBoundary(initial_theta,XX,y,1.)\n",
        "\n",
        "plt.subplot(223)\n",
        "plotData(data, 'Microchip Test 1', 'Microchip Test 2', 'y = 1', 'y = 0')\n",
        "plotBoundary(initial_theta,XX,y,10.)\n",
        "\n",
        "plt.subplot(224)\n",
        "plotData(data, 'Microchip Test 1', 'Microchip Test 2', 'y = 1', 'y = 0')\n",
        "plotBoundary(initial_theta,XX,y,15.)"
      ],
      "metadata": {
        "colab": {
          "base_uri": "https://localhost:8080/",
          "height": 1000
        },
        "id": "9gjc7IV6nhRY",
        "outputId": "00db5557-9f84-4355-f896-6f3b7c10fabe"
      },
      "execution_count": 28,
      "outputs": [
        {
          "output_type": "stream",
          "name": "stdout",
          "text": [
            "Iteration    0: Cost 0.6929404868391428   \n",
            "Iteration 1000: Cost 0.6091910684196054   \n",
            "Iteration 2000: Cost 0.5705139225509426   \n",
            "Iteration 3000: Cost 0.5430090493876225   \n",
            "Iteration 4000: Cost 0.5216640059851467   \n",
            "Iteration 5000: Cost 0.5044460455455257   \n",
            "Iteration 6000: Cost 0.4902121823206805   \n",
            "Iteration 7000: Cost 0.4782268460496527   \n",
            "Iteration 8000: Cost 0.46798522396812753   \n",
            "Iteration 9000: Cost 0.45912687069567465   \n",
            "[ 1.24645471e+00  7.21868758e-01  1.32555405e+00 -2.02436991e+00\n",
            " -9.25643166e-01 -1.18335476e+00  2.31155012e-01 -4.07314060e-01\n",
            " -4.09444907e-01 -1.25591859e-02 -1.48406755e+00 -8.56083371e-02\n",
            " -6.55472908e-01 -2.91828574e-01 -1.04779454e+00 -1.59735155e-01\n",
            " -2.38739569e-01 -7.70608823e-02 -2.88654520e-01 -3.27597297e-01\n",
            " -3.25728607e-01 -1.04919797e+00  6.05135158e-03 -3.19432401e-01\n",
            " -5.21571246e-03 -3.43318149e-01 -1.60480909e-01 -8.12041838e-01\n",
            " -3.01862530e-01 -1.22713076e-01 -5.76626107e-02 -1.25208367e-01\n",
            " -5.09004392e-02 -1.82211706e-01 -2.18931937e-01 -3.99026146e-01\n",
            " -7.67481669e-01  1.88324420e-02 -1.71318621e-01  3.52854031e-03\n",
            " -1.39382625e-01  1.21693905e-03 -2.02629241e-01 -1.06769602e-01\n",
            " -6.44294175e-01 -3.35872741e-01 -6.64533379e-02 -4.63822178e-02\n",
            " -5.30126796e-02 -2.71631286e-02 -7.10371917e-02 -2.39703828e-02\n",
            " -1.20959744e-01 -1.46801295e-01 -4.10284163e-01 -5.83982844e-01\n",
            "  1.48146035e-02 -1.00937557e-01  3.30315604e-03 -6.31551077e-02\n",
            "  8.83945033e-05 -7.40996443e-02  4.18070369e-03 -1.30317634e-01\n",
            " -7.85393047e-02 -5.39975363e-01] \n",
            "\n",
            "Cost :  0.4513939576427376 \n",
            " \n",
            " \n",
            "Iteration    0: Cost 0.6929404952269095   \n",
            "Iteration 1000: Cost 0.6141631131699615   \n",
            "Iteration 2000: Cost 0.583520516576369   \n",
            "Iteration 3000: Cost 0.5650112555536969   \n",
            "Iteration 4000: Cost 0.5527902096558885   \n",
            "Iteration 5000: Cost 0.5443930127779093   \n",
            "Iteration 6000: Cost 0.5384754893806005   \n",
            "Iteration 7000: Cost 0.5342254144125537   \n",
            "Iteration 8000: Cost 0.5311255520903687   \n",
            "Iteration 9000: Cost 0.528834991979207   \n",
            "[ 9.20817912e-01  4.70160093e-01  9.57781439e-01 -1.48272614e+00\n",
            " -6.35438064e-01 -8.43527610e-01  1.31177221e-01 -2.81039699e-01\n",
            " -2.89672905e-01 -2.55082415e-02 -1.08875631e+00 -5.71118239e-02\n",
            " -4.71671343e-01 -1.94740844e-01 -7.66926709e-01 -1.36067836e-01\n",
            " -1.66056359e-01 -6.04814794e-02 -2.04484724e-01 -2.24564840e-01\n",
            " -2.60020427e-01 -7.68645197e-01  5.79835109e-03 -2.31418427e-01\n",
            " -2.94568120e-03 -2.47074514e-01 -1.03319111e-01 -6.06374251e-01\n",
            " -2.29457250e-01 -8.55366120e-02 -4.49761759e-02 -8.85627000e-02\n",
            " -3.72063187e-02 -1.31373096e-01 -1.46069882e-01 -3.14784325e-01\n",
            " -5.60324164e-01  1.42912176e-02 -1.24776185e-01  2.36574712e-03\n",
            " -1.00434011e-01  1.53466610e-03 -1.46956998e-01 -6.59257159e-02\n",
            " -4.87895104e-01 -2.48059323e-01 -4.63358400e-02 -3.55327607e-02\n",
            " -3.75758161e-02 -2.04330363e-02 -5.08194551e-02 -1.67806319e-02\n",
            " -8.86275129e-02 -9.47678565e-02 -3.21326427e-01 -4.24012500e-01\n",
            "  1.12310580e-02 -7.37833936e-02  2.16270477e-03 -4.57050184e-02\n",
            " -6.30304588e-05 -5.34933464e-02  3.73700816e-03 -9.55189897e-02\n",
            " -4.63019681e-02 -4.11488987e-01] \n",
            "\n",
            "Cost :  0.527124638870935 \n",
            " \n",
            " \n",
            "Iteration    0: Cost 0.6929405738622232   \n",
            "Iteration 1000: Cost 0.6440217203801025   \n",
            "Iteration 2000: Cost 0.6397724057425622   \n",
            "Iteration 3000: Cost 0.6390291064160349   \n",
            "Iteration 4000: Cost 0.6388515357090254   \n",
            "Iteration 5000: Cost 0.6387980915718511   \n",
            "Iteration 6000: Cost 0.638779584571343   \n",
            "Iteration 7000: Cost 0.6387726992166688   \n",
            "Iteration 8000: Cost 0.6387700477501326   \n",
            "Iteration 9000: Cost 0.6387690091865135   \n",
            "[ 2.28311753e-01  1.03293362e-02  2.05845004e-01 -3.84592916e-01\n",
            " -1.18303917e-01 -1.93625323e-01 -4.36398234e-02 -5.54604359e-02\n",
            " -6.51263514e-02 -4.65227011e-02 -2.95863101e-01 -1.36350766e-02\n",
            " -1.08149260e-01 -3.23258622e-02 -2.11393637e-01 -8.72428852e-02\n",
            " -3.55432356e-02 -2.13406401e-02 -4.54293484e-02 -4.27582232e-02\n",
            " -1.17608913e-01 -2.19019720e-01 -1.94695458e-03 -5.50486016e-02\n",
            " -1.53850858e-03 -5.82498317e-02 -1.45925940e-02 -1.94513903e-01\n",
            " -9.90112696e-02 -2.03821067e-02 -1.54180689e-02 -1.94293562e-02\n",
            " -1.02730867e-02 -3.28924966e-02 -2.46285549e-02 -1.40357811e-01\n",
            " -1.68341233e-01 -4.08162433e-04 -3.07448614e-02 -6.01483588e-04\n",
            " -2.36404556e-02 -1.22453698e-04 -3.73240230e-02 -7.37769303e-03\n",
            " -1.79396041e-01 -9.81130213e-02 -1.28966838e-02 -1.15086974e-02\n",
            " -8.47717912e-03 -6.17385591e-03 -1.20309490e-02 -4.23854944e-03\n",
            " -2.49140906e-02 -1.37913109e-02 -1.49168481e-01 -1.35307097e-01\n",
            " -1.12577677e-03 -1.87648546e-02 -3.43860100e-04 -1.09940861e-02\n",
            " -6.61945045e-04 -1.30432389e-02  7.18034462e-04 -2.66873904e-02\n",
            " -3.77369426e-03 -1.70678365e-01] \n",
            "\n",
            "Cost :  0.6387685989081894 \n",
            " \n",
            " \n",
            "Iteration    0: Cost 0.6929406175485086   \n",
            "Iteration 1000: Cost 0.6530241954560102   \n",
            "Iteration 2000: Cost 0.6513835732921346   \n",
            "Iteration 3000: Cost 0.6512009760269182   \n",
            "Iteration 4000: Cost 0.6511686413046732   \n",
            "Iteration 5000: Cost 0.6511614388154527   \n",
            "Iteration 6000: Cost 0.6511596825231551   \n",
            "Iteration 7000: Cost 0.6511592388346189   \n",
            "Iteration 8000: Cost 0.6511591249754674   \n",
            "Iteration 9000: Cost 0.6511590955162814   \n",
            "[ 1.53310309e-01 -1.50339230e-02  1.33725069e-01 -2.76278403e-01\n",
            " -8.07284922e-02 -1.41300045e-01 -4.60765781e-02 -3.84063050e-02\n",
            " -4.65293470e-02 -4.40442870e-02 -2.15234613e-01 -1.02366223e-02\n",
            " -7.57989073e-02 -2.18458610e-02 -1.58038002e-01 -7.32282133e-02\n",
            " -2.48636845e-02 -1.61745231e-02 -3.19304378e-02 -2.94738191e-02\n",
            " -9.57960685e-02 -1.61883916e-01 -2.28307133e-03 -3.87070629e-02\n",
            " -1.31019666e-03 -4.11947704e-02 -9.73327178e-03 -1.49287861e-01\n",
            " -7.99828422e-02 -1.46679489e-02 -1.15805811e-02 -1.35055749e-02\n",
            " -7.48605901e-03 -2.36621192e-02 -1.67372379e-02 -1.13635078e-01\n",
            " -1.26760178e-01 -1.23592127e-03 -2.17525793e-02 -6.04780834e-04\n",
            " -1.66179790e-02 -2.17504006e-04 -2.68490725e-02 -4.85877187e-03\n",
            " -1.41247526e-01 -7.88294550e-02 -9.67344388e-03 -8.57906224e-03\n",
            " -5.90609778e-03 -4.52176565e-03 -8.48992426e-03 -3.07137023e-03\n",
            " -1.83258027e-02 -9.31882955e-03 -1.21850649e-01 -1.04067462e-01\n",
            " -1.75359796e-03 -1.33680018e-02 -3.67126887e-04 -7.74333206e-03\n",
            " -5.53840018e-04 -9.24287206e-03  4.21220657e-04 -1.95964697e-02\n",
            " -2.50383659e-03 -1.37649954e-01] \n",
            "\n",
            "Cost :  0.6511590878597526 \n",
            " \n",
            " \n"
          ]
        },
        {
          "output_type": "display_data",
          "data": {
            "text/plain": [
              "<Figure size 864x720 with 4 Axes>"
            ],
            "image/png": "[encoded data removed]"
          },
          "metadata": {
            "needs_background": "light"
          }
        }
      ]
    }
  ]
}