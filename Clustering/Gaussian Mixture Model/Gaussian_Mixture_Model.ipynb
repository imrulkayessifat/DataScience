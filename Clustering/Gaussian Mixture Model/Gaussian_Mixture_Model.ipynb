{
  "nbformat": 4,
  "nbformat_minor": 0,
  "metadata": {
    "colab": {
      "name": " Gaussian Mixture Model.ipynb",
      "provenance": []
    },
    "kernelspec": {
      "name": "python3",
      "display_name": "Python 3"
    },
    "language_info": {
      "name": "python"
    }
  },
  "cells": [
    {
      "cell_type": "markdown",
      "metadata": {
        "id": "Eunma-OqNel7"
      },
      "source": [
        "https://www.analyticsvidhya.com/blog/2019/10/gaussian-mixture-models-clustering/"
      ]
    },
    {
      "cell_type": "code",
      "metadata": {
        "id": "U6O21RXFNfq5"
      },
      "source": [
        "import numpy as np\n",
        "import matplotlib.pyplot as plt\n",
        "import pandas as pd"
      ],
      "execution_count": 1,
      "outputs": []
    },
    {
      "cell_type": "code",
      "metadata": {
        "id": "rYOHWcRLNiZ8"
      },
      "source": [
        "path = r\"https://drive.google.com/file/d/1Z8pao8Z6EcbjCDqI7Vz-Q1tAFt5oQjUU/view?usp=sharing\"\n",
        "path = r\"https://drive.google.com/uc?id=\" + path.split('/')[-2]\n",
        "dataset = pd.read_csv(path)\n",
        "X = dataset.iloc[:, [1, 2]].values\n",
        "X"
      ],
      "execution_count": null,
      "outputs": []
    },
    {
      "cell_type": "code",
      "metadata": {
        "id": "P9NMmmGoNpaC"
      },
      "source": [
        "\n",
        "# training gaussian mixture model \n",
        "from sklearn.mixture import GaussianMixture\n",
        "gmm = GaussianMixture(n_components=4)\n",
        "gmm.fit(X)"
      ],
      "execution_count": null,
      "outputs": []
    },
    {
      "cell_type": "code",
      "metadata": {
        "id": "fAAbMvKyNuyM"
      },
      "source": [
        "#predictions from gmm\n",
        "labels = gmm.predict(X)\n",
        "frame = pd.DataFrame(X)\n",
        "frame['cluster'] = labels\n",
        "frame.columns = ['Weight', 'Height', 'cluster']"
      ],
      "execution_count": 5,
      "outputs": []
    },
    {
      "cell_type": "code",
      "metadata": {
        "colab": {
          "base_uri": "https://localhost:8080/",
          "height": 265
        },
        "id": "RcUuftO8NxVr",
        "outputId": "16954e96-2ea1-4d2d-c240-a374d3506ee5"
      },
      "source": [
        "color=['blue','green','cyan', 'black']\n",
        "for k in range(0,4):\n",
        "    data = frame[frame[\"cluster\"]==k]\n",
        "    plt.scatter(data[\"Weight\"],data[\"Height\"],c=color[k])\n",
        "plt.show()"
      ],
      "execution_count": 6,
      "outputs": [
        {
          "output_type": "display_data",
          "data": {
            "image/png": "[encoded data removed]",
            "text/plain": [
              "<Figure size 432x288 with 1 Axes>"
            ]
          },
          "metadata": {
            "tags": [],
            "needs_background": "light"
          }
        }
      ]
    }
  ]
}