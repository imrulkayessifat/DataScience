{
  "nbformat": 4,
  "nbformat_minor": 0,
  "metadata": {
    "colab": {
      "name": "support_vector_classification.ipynb",
      "provenance": [],
      "collapsed_sections": []
    },
    "kernelspec": {
      "name": "python3",
      "display_name": "Python 3"
    },
    "language_info": {
      "name": "python"
    }
  },
  "cells": [
    {
      "cell_type": "markdown",
      "metadata": {
        "id": "w42mcyxBsyD0"
      },
      "source": [
        "#Support Vector Classification"
      ]
    },
    {
      "cell_type": "code",
      "metadata": {
        "id": "MlZk8ZKgs3BZ"
      },
      "source": [
        "# import libraries\n",
        "import numpy as np\n",
        "import pandas as pd"
      ],
      "execution_count": 1,
      "outputs": []
    },
    {
      "cell_type": "code",
      "metadata": {
        "id": "OsttXQgss7rY"
      },
      "source": [
        "#load dataset\n",
        "from sklearn.datasets import load_breast_cancer\n",
        "data = load_breast_cancer()"
      ],
      "execution_count": 2,
      "outputs": []
    },
    {
      "cell_type": "code",
      "metadata": {
        "id": "klyUgAfUs-fQ"
      },
      "source": [
        "data.data"
      ],
      "execution_count": null,
      "outputs": []
    },
    {
      "cell_type": "code",
      "metadata": {
        "id": "Iu63fLwftAXp"
      },
      "source": [
        "data.feature_names"
      ],
      "execution_count": null,
      "outputs": []
    },
    {
      "cell_type": "code",
      "metadata": {
        "id": "MCXgJ7r5tCRT"
      },
      "source": [
        "data.target"
      ],
      "execution_count": null,
      "outputs": []
    },
    {
      "cell_type": "code",
      "metadata": {
        "id": "WGBUGSZHtHAJ"
      },
      "source": [
        "data.target_names"
      ],
      "execution_count": null,
      "outputs": []
    },
    {
      "cell_type": "code",
      "metadata": {
        "id": "Zk_hCN81tJ51"
      },
      "source": [
        "# create dtaframe\n",
        "df = pd.DataFrame(np.c_[data.data, data.target], columns=[list(data.feature_names)+['target']])\n",
        "df.head()"
      ],
      "execution_count": null,
      "outputs": []
    },
    {
      "cell_type": "code",
      "metadata": {
        "id": "-4bVF_B-tLBp"
      },
      "source": [
        "df.tail()"
      ],
      "execution_count": null,
      "outputs": []
    },
    {
      "cell_type": "code",
      "metadata": {
        "colab": {
          "base_uri": "https://localhost:8080/"
        },
        "id": "BRZLAIVFtOo5",
        "outputId": "693ebf48-e0fa-49a9-c05f-c458cc5a187b"
      },
      "source": [
        "df.shape"
      ],
      "execution_count": 9,
      "outputs": [
        {
          "output_type": "execute_result",
          "data": {
            "text/plain": [
              "(569, 31)"
            ]
          },
          "metadata": {
            "tags": []
          },
          "execution_count": 9
        }
      ]
    },
    {
      "cell_type": "code",
      "metadata": {
        "id": "9gGkOLL9tPYJ"
      },
      "source": [
        "### Split Data\n",
        "X = df.iloc[:, 0:-1]\n",
        "y = df.iloc[:, -1]"
      ],
      "execution_count": 10,
      "outputs": []
    },
    {
      "cell_type": "code",
      "metadata": {
        "id": "7O0W4L5gtXiS"
      },
      "source": [
        "from sklearn.model_selection import train_test_split\n",
        "X_train, X_test, y_train, y_test = train_test_split(X, y, test_size=0.2, random_state=2020)"
      ],
      "execution_count": 12,
      "outputs": []
    },
    {
      "cell_type": "code",
      "metadata": {
        "id": "Q9SsRsIotYPC"
      },
      "source": [
        "print('Shape of X_train = ', X_train.shape)\n",
        "print('Shape of y_train = ', y_train.shape)\n",
        "print('Shape of X_test = ', X_test.shape)\n",
        "print('Shape of y_test = ', y_test.shape)"
      ],
      "execution_count": null,
      "outputs": []
    },
    {
      "cell_type": "code",
      "metadata": {
        "id": "t9S9tJUjtaG6"
      },
      "source": [
        "## Train Support Vector Classification Model\n",
        "from sklearn.svm import SVC"
      ],
      "execution_count": 16,
      "outputs": []
    },
    {
      "cell_type": "code",
      "metadata": {
        "id": "SIM30sU0tdjR"
      },
      "source": [
        "classification_rbf = SVC(kernel='rbf')\n",
        "classification_rbf.fit(X_train, y_train)"
      ],
      "execution_count": null,
      "outputs": []
    },
    {
      "cell_type": "code",
      "metadata": {
        "id": "4TIiOR7Vtpf5"
      },
      "source": [
        "classification_rbf.score(X_test, y_test)"
      ],
      "execution_count": null,
      "outputs": []
    },
    {
      "cell_type": "code",
      "metadata": {
        "id": "QzXHRwaOtxfS"
      },
      "source": [
        "## Feature Scaling\n",
        "from sklearn.preprocessing import StandardScaler\n",
        "sc = StandardScaler()\n",
        " \n",
        "sc.fit(X_train)\n",
        " \n",
        "X_train_sc = sc.transform(X_train)\n",
        "X_test_sc = sc.transform(X_test)"
      ],
      "execution_count": 22,
      "outputs": []
    },
    {
      "cell_type": "code",
      "metadata": {
        "id": "Ixn5G7pot1cI"
      },
      "source": [
        "classification_rbf_2 = SVC(kernel='rbf')\n",
        "classification_rbf_2.fit(X_train_sc, y_train)"
      ],
      "execution_count": null,
      "outputs": []
    },
    {
      "cell_type": "code",
      "metadata": {
        "id": "PrCs9mRLt68C"
      },
      "source": [
        "classification_rbf_2.score(X_test_sc, y_test)"
      ],
      "execution_count": null,
      "outputs": []
    },
    {
      "cell_type": "code",
      "metadata": {
        "id": "edAIUeNbt9xS"
      },
      "source": [
        "## SVC with kernel Polynomial\n",
        "classification_poly = SVC(kernel='poly', degree=2)\n",
        "classification_poly.fit(X_train_sc, y_train)"
      ],
      "execution_count": null,
      "outputs": []
    },
    {
      "cell_type": "code",
      "metadata": {
        "id": "HXNs0rnFuAxh"
      },
      "source": [
        "classification_poly.score(X_test_sc, y_test)"
      ],
      "execution_count": null,
      "outputs": []
    },
    {
      "cell_type": "code",
      "metadata": {
        "id": "xAxoaFOkuGcY"
      },
      "source": [
        "## SVC with Kernel Linear\n",
        "classification_linear = SVC(kernel='linear')\n",
        "classification_linear.fit(X_train_sc, y_train)"
      ],
      "execution_count": null,
      "outputs": []
    },
    {
      "cell_type": "code",
      "metadata": {
        "colab": {
          "base_uri": "https://localhost:8080/"
        },
        "id": "JoPualRpuKzy",
        "outputId": "e4f22b54-0965-46b0-a236-50505174d634"
      },
      "source": [
        "classification_linear.score(X_test_sc, y_test)"
      ],
      "execution_count": 28,
      "outputs": [
        {
          "output_type": "execute_result",
          "data": {
            "text/plain": [
              "0.9649122807017544"
            ]
          },
          "metadata": {
            "tags": []
          },
          "execution_count": 28
        }
      ]
    },
    {
      "cell_type": "code",
      "metadata": {
        "id": "bSGGn22muOex"
      },
      "source": [
        "## Predict Cancer\n",
        "patient1 = [17.99,\n",
        " 10.38,\n",
        " 122.8,\n",
        " 1001.0,\n",
        " 0.1184,\n",
        " 0.2776,\n",
        " 0.3001,\n",
        " 0.1471,\n",
        " 0.2419,\n",
        " 0.07871,\n",
        " 1.095,\n",
        " 0.9053,\n",
        " 8.589,\n",
        " 153.4,\n",
        " 0.006399,\n",
        " 0.04904,\n",
        " 0.05373,\n",
        " 0.01587,\n",
        " 0.03003,\n",
        " 0.006193,\n",
        " 25.38,\n",
        " 17.33,\n",
        " 184.6,\n",
        " 2019.0,\n",
        " 0.1622,\n",
        " 0.6656,\n",
        " 0.7119,\n",
        " 0.2654,\n",
        " 0.4601,\n",
        " 0.1189]"
      ],
      "execution_count": 29,
      "outputs": []
    },
    {
      "cell_type": "code",
      "metadata": {
        "id": "_O8IIDlmuRxL"
      },
      "source": [
        "patient1_sc = sc.transform(np.array([patient1]))\n",
        "patient1_sc"
      ],
      "execution_count": null,
      "outputs": []
    },
    {
      "cell_type": "code",
      "metadata": {
        "id": "xqmqLHwfuTLd"
      },
      "source": [
        "pred= classification_linear.predict(patient1_sc)\n",
        "pred"
      ],
      "execution_count": null,
      "outputs": []
    },
    {
      "cell_type": "code",
      "metadata": {
        "id": "cuDFzVWbuVm-"
      },
      "source": [
        "data.target_names"
      ],
      "execution_count": null,
      "outputs": []
    },
    {
      "cell_type": "code",
      "metadata": {
        "id": "q8GtdRmeuZvs"
      },
      "source": [
        "if pred[0] == 0:\n",
        "  print('Patient has Cancer (malignant tumor)')\n",
        "else:\n",
        "  print('Patient has no Cancer (malignant benign)')"
      ],
      "execution_count": null,
      "outputs": []
    }
  ]
}