{
  "nbformat": 4,
  "nbformat_minor": 0,
  "metadata": {
    "colab": {
      "name": "support vector regression.ipynb",
      "provenance": []
    },
    "kernelspec": {
      "name": "python3",
      "display_name": "Python 3"
    },
    "language_info": {
      "name": "python"
    }
  },
  "cells": [
    {
      "cell_type": "code",
      "metadata": {
        "id": "7J0lf7sNWdMH"
      },
      "source": [
        "### Load Libraries\n",
        "import pandas as pd"
      ],
      "execution_count": 1,
      "outputs": []
    },
    {
      "cell_type": "code",
      "metadata": {
        "id": "4OAv5oFVV-X3"
      },
      "source": [
        "### Load Data\n",
        "path = r\"https://drive.google.com/file/d/1FoyW9Yo7SP75FE4jiIcJNvTc2AXEwHvD/view?usp=sharing\"\n",
        "path = r\"https://drive.google.com/uc?id=\" + path.split('/')[-2]\n",
        "df = pd.read_csv(path)"
      ],
      "execution_count": 18,
      "outputs": []
    },
    {
      "cell_type": "code",
      "metadata": {
        "id": "N6Q0-XgZXAWU"
      },
      "source": [
        "df.head()"
      ],
      "execution_count": null,
      "outputs": []
    },
    {
      "cell_type": "code",
      "metadata": {
        "id": "xF4D1OWqXIKu"
      },
      "source": [
        "## Split Data\n",
        "X = df.drop('price', axis=1)\n",
        "y = df['price']"
      ],
      "execution_count": 21,
      "outputs": []
    },
    {
      "cell_type": "code",
      "metadata": {
        "id": "GW7_GJwjn2cu"
      },
      "source": [
        "print('Shape of X = ', X.shape)\n",
        "print('Shape of y = ', y.shape)"
      ],
      "execution_count": null,
      "outputs": []
    },
    {
      "cell_type": "code",
      "metadata": {
        "id": "jLkFFQe4oE6E"
      },
      "source": [
        "from sklearn.model_selection import train_test_split\n",
        "X_train, X_test, y_train, y_test = train_test_split(X, y, test_size=0.2, random_state=51)\n",
        " "
      ],
      "execution_count": 23,
      "outputs": []
    },
    {
      "cell_type": "code",
      "metadata": {
        "id": "XHD4QDTJoJKY"
      },
      "source": [
        "print('Shape of X_train = ', X_train.shape)\n",
        "print('Shape of y_train = ', y_train.shape)\n",
        "print('Shape of X_test = ', X_test.shape)\n",
        "print('Shape of y_test = ', y_test.shape)"
      ],
      "execution_count": null,
      "outputs": []
    },
    {
      "cell_type": "code",
      "metadata": {
        "id": "AvtZYGM_oNE_"
      },
      "source": [
        "## Feature Scaling\n",
        "from sklearn.preprocessing import StandardScaler\n",
        "sc = StandardScaler()\n",
        "sc.fit(X_train)\n",
        "X_train = sc.transform(X_train)\n",
        "X_test = sc.transform(X_test)"
      ],
      "execution_count": 26,
      "outputs": []
    },
    {
      "cell_type": "code",
      "metadata": {
        "id": "tMJWRPnAoYgD"
      },
      "source": [
        "## Support Vector Regression - ML Model Training\n",
        "from sklearn.svm import SVR"
      ],
      "execution_count": 27,
      "outputs": []
    },
    {
      "cell_type": "code",
      "metadata": {
        "id": "z5580ZTMofX7"
      },
      "source": [
        "svr_rbf = SVR(kernel='rbf')\n",
        "svr_rbf.fit(X_train, y_train)\n",
        "svr_rbf.score(X_test, y_test)"
      ],
      "execution_count": null,
      "outputs": []
    },
    {
      "cell_type": "code",
      "metadata": {
        "id": "TPaeF3q8oh03"
      },
      "source": [
        "svr_linear = SVR(kernel='linear')\n",
        "svr_linear.fit(X_train, y_train)\n",
        "svr_linear.score(X_test, y_test)"
      ],
      "execution_count": null,
      "outputs": []
    },
    {
      "cell_type": "code",
      "metadata": {
        "id": "W1ALhhDEoocB"
      },
      "source": [
        "svr_poly = SVR(kernel='poly',degree=2,)\n",
        "svr_poly.fit(X_train, y_train)\n",
        "svr_poly.score(X_test, y_test)"
      ],
      "execution_count": null,
      "outputs": []
    },
    {
      "cell_type": "code",
      "metadata": {
        "id": "cFkcthRWos73"
      },
      "source": [
        "## Predict the value of Home and Test\n",
        "X_test[0]"
      ],
      "execution_count": null,
      "outputs": []
    },
    {
      "cell_type": "code",
      "metadata": {
        "id": "cYg1MYPUo0Mq"
      },
      "source": [
        "svr_linear.predict([X_test[0]])"
      ],
      "execution_count": null,
      "outputs": []
    },
    {
      "cell_type": "code",
      "metadata": {
        "id": "tLG8u4Mco2XX"
      },
      "source": [
        "y_pred = svr_linear.predict(X_test)\n",
        "y_pred"
      ],
      "execution_count": null,
      "outputs": []
    },
    {
      "cell_type": "code",
      "metadata": {
        "id": "BZ4n8BBYo39J"
      },
      "source": [
        "y_test"
      ],
      "execution_count": null,
      "outputs": []
    },
    {
      "cell_type": "code",
      "metadata": {
        "id": "4ZBEq9Fmo5bY"
      },
      "source": [
        "from sklearn.metrics import mean_squared_error\n",
        "import numpy as np"
      ],
      "execution_count": 40,
      "outputs": []
    },
    {
      "cell_type": "code",
      "metadata": {
        "id": "EctdJml9o6uo"
      },
      "source": [
        "mse = mean_squared_error(y_test, y_pred)\n",
        "rmse = np.sqrt(mse)"
      ],
      "execution_count": 41,
      "outputs": []
    },
    {
      "cell_type": "code",
      "metadata": {
        "colab": {
          "base_uri": "https://localhost:8080/"
        },
        "id": "Wke8r_Fvo8Bn",
        "outputId": "15394938-93e0-4198-9e87-05b7f9df22a1"
      },
      "source": [
        "print('MSE = ', mse)\n",
        "print('RMSE = ', rmse)"
      ],
      "execution_count": 42,
      "outputs": [
        {
          "output_type": "stream",
          "text": [
            "MSE =  4093.4831852475745\n",
            "RMSE =  63.9803343633618\n"
          ],
          "name": "stdout"
        }
      ]
    }
  ]
}