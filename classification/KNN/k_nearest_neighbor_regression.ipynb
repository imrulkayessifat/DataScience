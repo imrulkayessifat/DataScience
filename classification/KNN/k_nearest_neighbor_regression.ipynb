{
  "nbformat": 4,
  "nbformat_minor": 0,
  "metadata": {
    "colab": {
      "name": "k_nearest_neighbor_regression.ipynb",
      "provenance": []
    },
    "kernelspec": {
      "name": "python3",
      "display_name": "Python 3"
    },
    "language_info": {
      "name": "python"
    }
  },
  "cells": [
    {
      "cell_type": "code",
      "metadata": {
        "id": "7jJyRhizJ6a7"
      },
      "source": [
        "### Load Librarie\n",
        "import pandas as pd"
      ],
      "execution_count": 1,
      "outputs": []
    },
    {
      "cell_type": "code",
      "metadata": {
        "id": "BDv6k2GAK-Y1"
      },
      "source": [
        "### Load Data\n",
        "path = r\"https://drive.google.com/file/d/1FoyW9Yo7SP75FE4jiIcJNvTc2AXEwHvD/view?usp=sharing\"\n",
        "path = r\"https://drive.google.com/uc?id=\" + path.split('/')[-2]\n",
        "df = pd.read_csv(path)"
      ],
      "execution_count": 2,
      "outputs": []
    },
    {
      "cell_type": "code",
      "metadata": {
        "id": "d67Haz0jK-iZ"
      },
      "source": [
        "df.head()"
      ],
      "execution_count": null,
      "outputs": []
    },
    {
      "cell_type": "code",
      "metadata": {
        "id": "wyf4Oc01K-qt"
      },
      "source": [
        "## Split Data\n",
        "X = df.drop('price', axis=1)\n",
        "y = df['price']"
      ],
      "execution_count": 4,
      "outputs": []
    },
    {
      "cell_type": "code",
      "metadata": {
        "id": "oxJdD_XDK-w8"
      },
      "source": [
        "print('Shape of X = ', X.shape)\n",
        "print('Shape of y = ', y.shape)"
      ],
      "execution_count": null,
      "outputs": []
    },
    {
      "cell_type": "code",
      "metadata": {
        "id": "RQiclC3mK-22"
      },
      "source": [
        "from sklearn.model_selection import train_test_split\n",
        "X_train, X_test, y_train, y_test = train_test_split(X, y, test_size=0.2, random_state=51)"
      ],
      "execution_count": 6,
      "outputs": []
    },
    {
      "cell_type": "code",
      "metadata": {
        "id": "RKc_RfsrK-7q"
      },
      "source": [
        "print('Shape of X_train = ', X_train.shape)\n",
        "print('Shape of y_train = ', y_train.shape)\n",
        "print('Shape of X_test = ', X_test.shape)\n",
        "print('Shape of y_test = ', y_test.shape)"
      ],
      "execution_count": null,
      "outputs": []
    },
    {
      "cell_type": "code",
      "metadata": {
        "id": "WuQU1SYfK_Ac"
      },
      "source": [
        "##K Nearest Neighbor Regression\n",
        "from sklearn.neighbors import KNeighborsRegressor\n",
        " \n",
        "regressor = KNeighborsRegressor(n_neighbors=5)\n",
        "regressor.fit(X_train, y_train)"
      ],
      "execution_count": null,
      "outputs": []
    },
    {
      "cell_type": "code",
      "metadata": {
        "id": "tNjcpN0WK_FU"
      },
      "source": [
        "regressor.score(X_test, y_test)"
      ],
      "execution_count": null,
      "outputs": []
    },
    {
      "cell_type": "code",
      "metadata": {
        "id": "jyDc-nF0K_Kk"
      },
      "source": [
        "## Predict the value of Home\n",
        "X_test.iloc[-1, :]"
      ],
      "execution_count": null,
      "outputs": []
    },
    {
      "cell_type": "code",
      "metadata": {
        "id": "gvJI1GJ6K_UE"
      },
      "source": [
        "regressor.predict([X_test.iloc[-1, :]])"
      ],
      "execution_count": null,
      "outputs": []
    },
    {
      "cell_type": "code",
      "metadata": {
        "colab": {
          "base_uri": "https://localhost:8080/"
        },
        "id": "aZUCuSBXK_Z1",
        "outputId": "50daf0b5-77b3-44b6-ad65-591feb04a6d1"
      },
      "source": [
        "y_test.iloc[-1]"
      ],
      "execution_count": 13,
      "outputs": [
        {
          "output_type": "execute_result",
          "data": {
            "text/plain": [
              "180.0"
            ]
          },
          "metadata": {
            "tags": []
          },
          "execution_count": 13
        }
      ]
    },
    {
      "cell_type": "code",
      "metadata": {
        "id": "wv5Nfm5JK_fy"
      },
      "source": [
        "y_pred = regressor.predict(X_test)\n",
        "y_pred"
      ],
      "execution_count": null,
      "outputs": []
    },
    {
      "cell_type": "code",
      "metadata": {
        "id": "JbOzXLwVM1F9"
      },
      "source": [
        "y_test"
      ],
      "execution_count": null,
      "outputs": []
    }
  ]
}