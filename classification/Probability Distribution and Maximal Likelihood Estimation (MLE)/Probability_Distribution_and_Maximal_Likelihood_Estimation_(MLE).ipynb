{
  "nbformat": 4,
  "nbformat_minor": 0,
  "metadata": {
    "colab": {
      "name": "Probability Distribution and Maximal Likelihood Estimation (MLE).ipynb",
      "provenance": []
    },
    "kernelspec": {
      "name": "python3",
      "display_name": "Python 3"
    },
    "language_info": {
      "name": "python"
    }
  },
  "cells": [
    {
      "cell_type": "code",
      "metadata": {
        "id": "9wQq9MoK_76r"
      },
      "source": [
        "import numpy as np\n",
        "import matplotlib.pyplot as plt\n",
        "import seaborn as sns"
      ],
      "execution_count": 1,
      "outputs": []
    },
    {
      "cell_type": "markdown",
      "metadata": {
        "id": "0WCcB4uiAEn0"
      },
      "source": [
        "Probability Mass Function"
      ]
    },
    {
      "cell_type": "code",
      "metadata": {
        "id": "x5gV5OGiAHFd"
      },
      "source": [
        "# Let's suppose a dice is thrown 1000 times\n",
        "num_throws = 1000\n",
        "outcomes = np.zeros(num_throws) #Dice outcomes\n",
        "outcomes"
      ],
      "execution_count": null,
      "outputs": []
    },
    {
      "cell_type": "code",
      "metadata": {
        "id": "s5Ate4DlAOK-"
      },
      "source": [
        "outcome = np.random.choice(range(1,7))# Dice will give a random number between 1-6\n",
        "outcome"
      ],
      "execution_count": null,
      "outputs": []
    },
    {
      "cell_type": "code",
      "metadata": {
        "id": "9KAEWsZPAPyb"
      },
      "source": [
        "for i in range(num_throws):\n",
        "    # let's roll the die\n",
        "    outcome = np.random.choice(range(1,7))# Dice will give a random number between 1-6\n",
        "    outcomes[i] = outcome\n",
        "outcomes"
      ],
      "execution_count": null,
      "outputs": []
    },
    {
      "cell_type": "code",
      "metadata": {
        "id": "hD_dNd5bAX29"
      },
      "source": [
        "val, count = np.unique(outcomes, return_counts=True)\n",
        "Prob = count / len(outcomes) \n",
        "\n",
        "# Now that we have rolled our die 10000 times, let's plot the results\n",
        "plt.bar(val, Prob)\n",
        "plt.ylabel(\"Probability\")\n",
        "plt.xlabel(\"Dice Outcome\")\n",
        "plt.show()"
      ],
      "execution_count": null,
      "outputs": []
    },
    {
      "cell_type": "markdown",
      "metadata": {
        "id": "lrgotooHBDot"
      },
      "source": [
        "Probability Density Function"
      ]
    },
    {
      "cell_type": "code",
      "metadata": {
        "id": "Cn46yZTGBSQi"
      },
      "source": [
        "# Uniform Distribution\n",
        "x = np.random.uniform(0, 0.5, 1000)\n",
        "x"
      ],
      "execution_count": null,
      "outputs": []
    },
    {
      "cell_type": "code",
      "metadata": {
        "id": "vipIiHJaBaZk"
      },
      "source": [
        "np.unique(x)"
      ],
      "execution_count": null,
      "outputs": []
    },
    {
      "cell_type": "code",
      "metadata": {
        "id": "4KiGvNQSBh5N"
      },
      "source": [
        "plt.figure\n",
        "sns.distplot(x,color=\"g\")\n",
        "plt.title('Uniform Distribution')\n",
        "plt.show()"
      ],
      "execution_count": null,
      "outputs": []
    },
    {
      "cell_type": "code",
      "metadata": {
        "id": "4Y8f3c6SB4dc"
      },
      "source": [
        "# Gaussian Distribution\n",
        "x = np.random.normal(0,1,1000) #0 mean unit standard deviation\n",
        "print(x.shape)\n",
        "x[:10]"
      ],
      "execution_count": null,
      "outputs": []
    },
    {
      "cell_type": "code",
      "metadata": {
        "id": "JRN1uG4RB8jI"
      },
      "source": [
        "plt.figure\n",
        "ax = sns.distplot(x,color=\"m\")\n",
        "plt.title('Gaussian Distribution')"
      ],
      "execution_count": null,
      "outputs": []
    },
    {
      "cell_type": "code",
      "metadata": {
        "id": "q5Nq_iJpB-lL"
      },
      "source": [
        "# Remove histogram\n",
        "ax = sns.distplot(x, hist=False,color=\"m\")\n",
        "plt.figure\n",
        "plt.title('Gaussian Distribution')"
      ],
      "execution_count": null,
      "outputs": []
    },
    {
      "cell_type": "markdown",
      "metadata": {
        "id": "KTJKy8CMCla5"
      },
      "source": [
        "\n",
        "Maximum Likelihood Estimation (MLE)"
      ]
    },
    {
      "cell_type": "code",
      "metadata": {
        "id": "tactkFvxCmGK"
      },
      "source": [
        "mean = 0\n",
        "std = 5\n",
        "N_points = 1000\n",
        "data = np.random.normal(mean, std, N_points)#Gaussian distribution with mean 2 and standard deviation 3\n",
        "ax = sns.distplot(data, hist = False, color=\"green\")"
      ],
      "execution_count": null,
      "outputs": []
    },
    {
      "cell_type": "code",
      "metadata": {
        "id": "x2TDWSD0CqP7"
      },
      "source": [
        "print('True mean is '+str(mean) + ' and variance is ' + str(std**2))"
      ],
      "execution_count": null,
      "outputs": []
    },
    {
      "cell_type": "markdown",
      "metadata": {
        "id": "NrBRKiurDEHk"
      },
      "source": [
        "$$\\begin{equation*} \\mu_{ML} = \\frac{1}{N}\\sum_{n=1}^N x_n \\end{equation*}$$"
      ]
    },
    {
      "cell_type": "code",
      "metadata": {
        "id": "khqMGjU2CsQk"
      },
      "source": [
        "mu_ML = 1/N_points*sum(data)\n",
        "print('Maximum likelihood estimation of mean is '+str(mu_ML))"
      ],
      "execution_count": null,
      "outputs": []
    },
    {
      "cell_type": "markdown",
      "metadata": {
        "id": "kFBYCFLlDGmT"
      },
      "source": [
        "\n",
        "$$\\begin{equation*} \\sigma^2_{ML} = \\frac{1}{N}\\sum_{n=1}^N (x_n - \\mu_{ML})^2 \\end{equation*}$$\n"
      ]
    },
    {
      "cell_type": "code",
      "metadata": {
        "id": "-uJj2pvJCv-T"
      },
      "source": [
        "var_ML = (1/N_points)*sum([(x-mu_ML)**2 for x in data])\n",
        "print('Maximum likelihood estimation of variance is ' + str(var_ML))"
      ],
      "execution_count": null,
      "outputs": []
    }
  ]
}