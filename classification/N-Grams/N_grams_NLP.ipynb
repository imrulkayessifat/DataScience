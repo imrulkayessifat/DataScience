{
  "nbformat": 4,
  "nbformat_minor": 0,
  "metadata": {
    "colab": {
      "name": "N_grams_NLP.ipynb",
      "provenance": []
    },
    "kernelspec": {
      "name": "python3",
      "display_name": "Python 3"
    },
    "language_info": {
      "name": "python"
    }
  },
  "cells": [
    {
      "cell_type": "code",
      "metadata": {
        "id": "WNM4aSlLV5Oe"
      },
      "source": [
        "import re"
      ],
      "execution_count": 1,
      "outputs": []
    },
    {
      "cell_type": "code",
      "metadata": {
        "id": "_oV_SrygV-7g"
      },
      "source": [
        "#natural Language Processing, or NLP for short, n-grams are used for a variety of things. Some examples include auto\n",
        "#completion of sentences(such as the one we see in Gmail these days),auto spell check(yes,we can do that as well),and to a\n",
        "#certain extent,we can check for grammar in a given sentence."
      ],
      "execution_count": 2,
      "outputs": []
    },
    {
      "cell_type": "code",
      "metadata": {
        "id": "RhqrOlREWirA"
      },
      "source": [
        "def N_Grams(text,n):\n",
        "  # split sentences into tokens\n",
        "  tokens=re.split(\"\\\\s+\",text)\n",
        "  ngrams=[]\n",
        "  # collect the n-grams\n",
        "  for i in range(len(tokens)-n+1):\n",
        "    temp=[tokens[j] for j in range(i,i+n)]\n",
        "    ngrams.append(\" \".join(temp))\n",
        "  return ngrams"
      ],
      "execution_count": 3,
      "outputs": []
    },
    {
      "cell_type": "code",
      "metadata": {
        "id": "D9cAW2zOXKfM"
      },
      "source": [
        "text1=\"the quick brown fox jumps the lazy dog\";"
      ],
      "execution_count": 4,
      "outputs": []
    },
    {
      "cell_type": "code",
      "metadata": {
        "colab": {
          "base_uri": "https://localhost:8080/"
        },
        "id": "GKBEe-PFXSLa",
        "outputId": "a89d561c-f87d-4b08-eb20-afd08efbbfe9"
      },
      "source": [
        "N_Grams(text1,1)"
      ],
      "execution_count": 5,
      "outputs": [
        {
          "output_type": "execute_result",
          "data": {
            "text/plain": [
              "['the', 'quick', 'brown', 'fox', 'jumps', 'the', 'lazy', 'dog']"
            ]
          },
          "metadata": {
            "tags": []
          },
          "execution_count": 5
        }
      ]
    },
    {
      "cell_type": "code",
      "metadata": {
        "colab": {
          "base_uri": "https://localhost:8080/"
        },
        "id": "W_uGtvwGX1uI",
        "outputId": "de755ebb-575c-49dc-e876-5c977416db3b"
      },
      "source": [
        "N_Grams(text1,2)"
      ],
      "execution_count": 6,
      "outputs": [
        {
          "output_type": "execute_result",
          "data": {
            "text/plain": [
              "['the quick',\n",
              " 'quick brown',\n",
              " 'brown fox',\n",
              " 'fox jumps',\n",
              " 'jumps the',\n",
              " 'the lazy',\n",
              " 'lazy dog']"
            ]
          },
          "metadata": {
            "tags": []
          },
          "execution_count": 6
        }
      ]
    },
    {
      "cell_type": "code",
      "metadata": {
        "colab": {
          "base_uri": "https://localhost:8080/"
        },
        "id": "P2dJzuOdX10_",
        "outputId": "0f6ade9e-9d64-42c5-a7a4-94ea07ac4387"
      },
      "source": [
        "N_Grams(text1,3)"
      ],
      "execution_count": 7,
      "outputs": [
        {
          "output_type": "execute_result",
          "data": {
            "text/plain": [
              "['the quick brown',\n",
              " 'quick brown fox',\n",
              " 'brown fox jumps',\n",
              " 'fox jumps the',\n",
              " 'jumps the lazy',\n",
              " 'the lazy dog']"
            ]
          },
          "metadata": {
            "tags": []
          },
          "execution_count": 7
        }
      ]
    }
  ]
}