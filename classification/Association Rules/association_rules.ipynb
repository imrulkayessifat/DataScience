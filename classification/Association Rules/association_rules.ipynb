{
  "nbformat": 4,
  "nbformat_minor": 0,
  "metadata": {
    "colab": {
      "name": "association_rules.ipynb",
      "provenance": []
    },
    "kernelspec": {
      "name": "python3",
      "display_name": "Python 3"
    },
    "language_info": {
      "name": "python"
    }
  },
  "cells": [
    {
      "cell_type": "code",
      "metadata": {
        "id": "UPIKAPJRT1O9"
      },
      "source": [
        "import pandas as pd\n",
        "from mlxtend.preprocessing import TransactionEncoder\n",
        "from mlxtend.frequent_patterns import apriori"
      ],
      "execution_count": 3,
      "outputs": []
    },
    {
      "cell_type": "code",
      "metadata": {
        "id": "KbCvigGgUqbD"
      },
      "source": [
        "dataset = [['Milk', 'Onion', 'Nutmeg', 'Kidney Beans', 'Eggs', 'Yogurt'],\n",
        "           ['Dill', 'Onion', 'Nutmeg', 'Kidney Beans', 'Eggs', 'Yogurt'],\n",
        "           ['Milk', 'Apple', 'Kidney Beans', 'Eggs'],\n",
        "           ['Milk', 'Unicorn', 'Corn', 'Kidney Beans', 'Yogurt'],\n",
        "           ['Corn', 'Onion', 'Onion', 'Kidney Beans', 'Ice cream', 'Eggs']]"
      ],
      "execution_count": 4,
      "outputs": []
    },
    {
      "cell_type": "code",
      "metadata": {
        "id": "VxPproL3UtuS"
      },
      "source": [
        "te = TransactionEncoder()\n",
        "te_ary = te.fit(dataset).transform(dataset)\n",
        "df = pd.DataFrame(te_ary, columns=te.columns_)\n",
        "df"
      ],
      "execution_count": null,
      "outputs": []
    },
    {
      "cell_type": "code",
      "metadata": {
        "id": "rca9jDoFUyHx"
      },
      "source": [
        "##frequent_itemsets = fpgrowth(df, min_support=0.6, use_colnames=True)\n",
        "### alternatively:\n",
        "frequent_itemsets = apriori(df, min_support=0.6, use_colnames=True)\n",
        "#frequent_itemsets = fpmax(df, min_support=0.6, use_colnames=True)"
      ],
      "execution_count": 7,
      "outputs": []
    },
    {
      "cell_type": "code",
      "metadata": {
        "id": "OASzNR9kU8G5"
      },
      "source": [
        "frequent_itemsets"
      ],
      "execution_count": null,
      "outputs": []
    },
    {
      "cell_type": "code",
      "metadata": {
        "id": "yIHVZPNoWcwR"
      },
      "source": [
        "from mlxtend.frequent_patterns import association_rules\n",
        "\n",
        "res = association_rules(frequent_itemsets, metric=\"confidence\", min_threshold=0.7)\n",
        "res"
      ],
      "execution_count": null,
      "outputs": []
    },
    {
      "cell_type": "code",
      "metadata": {
        "id": "IEKdjOinW9oK"
      },
      "source": [
        "res1 = res[['antecedents','consequents','support','confidence','lift']]\n",
        "res1"
      ],
      "execution_count": null,
      "outputs": []
    },
    {
      "cell_type": "code",
      "metadata": {
        "id": "l5YDGmLHXX8k"
      },
      "source": [
        "res2 = res1[res1['confidence']>=1]\n",
        "res2"
      ],
      "execution_count": null,
      "outputs": []
    },
    {
      "cell_type": "code",
      "metadata": {
        "id": "KPJARzY1Xz1b"
      },
      "source": [
        "## http://rasbt.github.io/mlxtend/user_guide/frequent_patterns/association_rules/"
      ],
      "execution_count": 14,
      "outputs": []
    }
  ]
}