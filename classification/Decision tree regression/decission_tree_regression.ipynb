{
  "nbformat": 4,
  "nbformat_minor": 0,
  "metadata": {
    "colab": {
      "name": "decission_tree_regression.ipynb",
      "provenance": []
    },
    "kernelspec": {
      "name": "python3",
      "display_name": "Python 3"
    },
    "language_info": {
      "name": "python"
    }
  },
  "cells": [
    {
      "cell_type": "markdown",
      "metadata": {
        "id": "MmIuiBEXBWXJ"
      },
      "source": [
        " Decision Tree Regression "
      ]
    },
    {
      "cell_type": "code",
      "metadata": {
        "id": "iJN8IuCcBYAt"
      },
      "source": [
        "### Load Libraries\n",
        "import pandas as pd"
      ],
      "execution_count": 1,
      "outputs": []
    },
    {
      "cell_type": "code",
      "metadata": {
        "id": "u75nEJrKBem-"
      },
      "source": [
        "### Load Data\n",
        "path = r\"https://drive.google.com/file/d/1FoyW9Yo7SP75FE4jiIcJNvTc2AXEwHvD/view?usp=sharing\"\n",
        "path = r\"https://drive.google.com/uc?id=\" + path.split('/')[-2]\n",
        "df = pd.read_csv(path)"
      ],
      "execution_count": 2,
      "outputs": []
    },
    {
      "cell_type": "code",
      "metadata": {
        "id": "p7EWwq1PCPh4"
      },
      "source": [
        "df.head()"
      ],
      "execution_count": null,
      "outputs": []
    },
    {
      "cell_type": "code",
      "metadata": {
        "id": "O_hsIufpCRyr"
      },
      "source": [
        "## Split Data\n",
        "X = df.drop('price', axis=1)\n",
        "y = df['price']"
      ],
      "execution_count": 4,
      "outputs": []
    },
    {
      "cell_type": "code",
      "metadata": {
        "id": "npD1QaLBCWvu"
      },
      "source": [
        "print('Shape of X = ', X.shape)\n",
        "print('Shape of y = ', y.shape)"
      ],
      "execution_count": null,
      "outputs": []
    },
    {
      "cell_type": "code",
      "metadata": {
        "id": "EO61Z5O4Cak2"
      },
      "source": [
        "from sklearn.model_selection import train_test_split\n",
        "X_train, X_test, y_train, y_test = train_test_split(X, y, test_size=0.2, random_state=51)"
      ],
      "execution_count": 9,
      "outputs": []
    },
    {
      "cell_type": "code",
      "metadata": {
        "id": "59pzmdeiCbQn"
      },
      "source": [
        "print('Shape of X_train = ', X_train.shape)\n",
        "print('Shape of y_train = ', y_train.shape)\n",
        "print('Shape of X_test = ', X_test.shape)\n",
        "print('Shape of y_test = ', y_test.shape)"
      ],
      "execution_count": null,
      "outputs": []
    },
    {
      "cell_type": "code",
      "metadata": {
        "id": "lCzVAp_VCdef"
      },
      "source": [
        "##Decision Tree Regression - ML Model Training\n",
        "from sklearn.tree import DecisionTreeRegressor\n",
        " \n",
        "regressor = DecisionTreeRegressor(criterion='mse')\n",
        "regressor.fit(X_train, y_train)"
      ],
      "execution_count": null,
      "outputs": []
    },
    {
      "cell_type": "code",
      "metadata": {
        "id": "imqtVGnwCkl4"
      },
      "source": [
        "regressor.score(X_test, y_test)"
      ],
      "execution_count": null,
      "outputs": []
    },
    {
      "cell_type": "code",
      "metadata": {
        "colab": {
          "base_uri": "https://localhost:8080/"
        },
        "id": "9PbM239pClP3",
        "outputId": "bf933d88-9d3a-4cb7-da56-cfb5e08e6601"
      },
      "source": [
        "## Predict the value of Home\n",
        "X_test.iloc[-1, :]"
      ],
      "execution_count": 13,
      "outputs": [
        {
          "output_type": "execute_result",
          "data": {
            "text/plain": [
              "bath                               2.000000\n",
              "balcony                            0.000000\n",
              "total_sqft_int                  1566.000000\n",
              "bhk                                2.000000\n",
              "price_per_sqft                 11494.252874\n",
              "                                   ...     \n",
              "location_Hosur Road                0.000000\n",
              "location_Horamavu Banaswadi        0.000000\n",
              "location_Domlur                    0.000000\n",
              "location_Mahadevpura               0.000000\n",
              "location_Tumkur Road               0.000000\n",
              "Name: 43, Length: 107, dtype: float64"
            ]
          },
          "metadata": {
            "tags": []
          },
          "execution_count": 13
        }
      ]
    },
    {
      "cell_type": "code",
      "metadata": {
        "id": "Zq-0bwN2CsCU"
      },
      "source": [
        "regressor.predict([X_test.iloc[-1, :]])"
      ],
      "execution_count": null,
      "outputs": []
    },
    {
      "cell_type": "code",
      "metadata": {
        "id": "ODiFcijxCtme"
      },
      "source": [
        "y_test.iloc[-1]"
      ],
      "execution_count": null,
      "outputs": []
    },
    {
      "cell_type": "code",
      "metadata": {
        "id": "U37S9mMMCvie"
      },
      "source": [
        "pred = regressor.predict(X_test)\n",
        "pred"
      ],
      "execution_count": null,
      "outputs": []
    },
    {
      "cell_type": "code",
      "metadata": {
        "id": "aZHTRtIKCxQu"
      },
      "source": [
        "y_test"
      ],
      "execution_count": null,
      "outputs": []
    }
  ]
}