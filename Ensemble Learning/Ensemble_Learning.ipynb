{
  "nbformat": 4,
  "nbformat_minor": 0,
  "metadata": {
    "colab": {
      "name": "Ensemble Learning.ipynb",
      "provenance": []
    },
    "kernelspec": {
      "name": "python3",
      "display_name": "Python 3"
    },
    "language_info": {
      "name": "python"
    }
  },
  "cells": [
    {
      "cell_type": "markdown",
      "metadata": {
        "id": "K-3SOHHmnREE"
      },
      "source": [
        "https://www.analyticsvidhya.com/blog/2018/06/comprehensive-guide-for-ensemble-models/"
      ]
    }
  ]
}