{
  "nbformat": 4,
  "nbformat_minor": 0,
  "metadata": {
    "colab": {
      "name": "BERT.ipynb",
      "provenance": []
    },
    "kernelspec": {
      "name": "python3",
      "display_name": "Python 3"
    },
    "language_info": {
      "name": "python"
    }
  },
  "cells": [
    {
      "cell_type": "code",
      "metadata": {
        "id": "fd5DYhQSSXLj"
      },
      "source": [
        "!pip install tensorflow-text"
      ],
      "execution_count": null,
      "outputs": []
    },
    {
      "cell_type": "code",
      "metadata": {
        "id": "DbIVoYoYVYey"
      },
      "source": [
        "\n",
        "import tensorflow_hub as hub\n",
        "import tensorflow_text as text"
      ],
      "execution_count": 10,
      "outputs": []
    },
    {
      "cell_type": "code",
      "metadata": {
        "id": "RfXwnWyrSktV"
      },
      "source": [
        "preprocess_url = \"https://tfhub.dev/tensorflow/bert_en_uncased_preprocess/3\"\n",
        "encoder_url = \"https://tfhub.dev/tensorflow/bert_en_uncased_L-12_H-768_A-12/4\""
      ],
      "execution_count": 11,
      "outputs": []
    },
    {
      "cell_type": "code",
      "metadata": {
        "id": "YjwDAar9Sopd"
      },
      "source": [
        "bert_preprocess_model = hub.KerasLayer(preprocess_url)"
      ],
      "execution_count": 12,
      "outputs": []
    },
    {
      "cell_type": "code",
      "metadata": {
        "id": "W51VM-ulSrBw"
      },
      "source": [
        "text_test = ['nice movie indeed','I love python programming']\n",
        "text_preprocessed = bert_preprocess_model(text_test)\n",
        "text_preprocessed.keys()"
      ],
      "execution_count": null,
      "outputs": []
    },
    {
      "cell_type": "code",
      "metadata": {
        "id": "4cESC-2sSumW"
      },
      "source": [
        "text_preprocessed['input_mask']\n",
        "\n",
        "## CLS nice movie indeed SEP"
      ],
      "execution_count": null,
      "outputs": []
    },
    {
      "cell_type": "code",
      "metadata": {
        "id": "xDuUYhMrWmmG"
      },
      "source": [
        "bert_model = hub.KerasLayer(encoder_url)\n",
        "bert_results = bert_model(text_preprocessed)\n",
        "bert_results.keys()"
      ],
      "execution_count": null,
      "outputs": []
    },
    {
      "cell_type": "code",
      "metadata": {
        "id": "FkUWMylGWnZG"
      },
      "source": [
        "bert_results['pooled_output']"
      ],
      "execution_count": null,
      "outputs": []
    }
  ]
}